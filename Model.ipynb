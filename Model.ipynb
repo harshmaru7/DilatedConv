{
 "cells": [
  {
   "cell_type": "code",
   "execution_count": 19,
   "metadata": {
    "collapsed": false
   },
   "outputs": [],
   "source": [
    "from keras.layers import Activation, Reshape, Dropout\n",
    "from keras.layers import Conv2D, MaxPooling2D\n",
    "from keras.models import Sequential\n",
    "import numpy as np\n",
    "import matplotlib.pyplot as plt\n",
    "%matplotlib inline\n"
   ]
  },
  {
   "cell_type": "code",
   "execution_count": 46,
   "metadata": {
    "collapsed": true
   },
   "outputs": [],
   "source": [
    "import keras\n",
    "from keras.models import Model\n",
    "from keras.layers import Input\n",
    "from keras.layers import BatchNormalization\n",
    "from keras.layers import UpSampling2D\n",
    "from keras.layers import Deconvolution2D\n",
    "from keras.layers import Conv2DTranspose\n",
    "from keras.layers import Concatenate\n",
    "from keras.layers import Lambda \n",
    "from keras.utils import to_categorical\n",
    "import tensorflow as tf\n",
    "\n",
    "from keras.layers import Reshape\n",
    "\n",
    "from keras import backend as K\n",
    "from keras import regularizers, optimizers"
   ]
  },
  {
   "cell_type": "code",
   "execution_count": 21,
   "metadata": {
    "collapsed": true
   },
   "outputs": [],
   "source": [
    "from keras.callbacks import ReduceLROnPlateau, CSVLogger,EarlyStopping,ModelCheckpoint"
   ]
  },
  {
   "cell_type": "code",
   "execution_count": 22,
   "metadata": {
    "collapsed": true
   },
   "outputs": [],
   "source": [
    "import scipy.io as scio\n",
    "import numpy as np    \n",
    "import os\n",
    "import matplotlib.pyplot as plt\n",
    "import math\n",
    "import re\n",
    "from scipy.misc import imsave\n",
    "from scipy import ndimage, misc\n",
    "from numpy import unravel_index\n",
    "from operator import sub"
   ]
  },
  {
   "cell_type": "code",
   "execution_count": 5,
   "metadata": {
    "collapsed": true
   },
   "outputs": [],
   "source": [
    "def atoi(text) : \n",
    "    return int(text) if text.isdigit() else text"
   ]
  },
  {
   "cell_type": "code",
   "execution_count": 6,
   "metadata": {
    "collapsed": true
   },
   "outputs": [],
   "source": [
    "def natural_keys(text) :\n",
    "    return [atoi(c) for c in re.split('(\\d+)', text)]"
   ]
  },
  {
   "cell_type": "code",
   "execution_count": 7,
   "metadata": {
    "collapsed": true
   },
   "outputs": [],
   "source": [
    "root_path = \"\"\n",
    "filenames = []\n",
    "for root, dirnames, filenames in os.walk(\"Dataset/Train_images/\"):\n",
    "    filenames.sort(key = natural_keys)\n",
    "    rootpath = root"
   ]
  },
  {
   "cell_type": "code",
   "execution_count": 8,
   "metadata": {
    "collapsed": false
   },
   "outputs": [
    {
     "name": "stdout",
     "output_type": "stream",
     "text": [
      "['image_1.png', 'image_2.png', 'image_3.png', 'image_4.png', 'image_5.png', 'image_6.png', 'image_7.png', 'image_8.png', 'image_9.png', 'image_10.png', 'image_11.png', 'image_12.png', 'image_13.png', 'image_14.png', 'image_15.png', 'image_16.png', 'image_17.png', 'image_18.png', 'image_19.png', 'image_20.png', 'image_21.png', 'image_22.png', 'image_23.png', 'image_24.png', 'image_25.png', 'image_26.png', 'image_27.png', 'image_28.png', 'image_29.png', 'image_30.png', 'image_31.png', 'image_32.png', 'image_33.png', 'image_34.png', 'image_35.png', 'image_36.png', 'image_37.png', 'image_38.png', 'image_39.png', 'image_40.png', 'image_41.png', 'image_42.png', 'image_43.png', 'image_44.png', 'image_45.png', 'image_46.png', 'image_47.png', 'image_48.png', 'image_49.png', 'image_50.png', 'image_51.png', 'image_52.png', 'image_53.png', 'image_54.png', 'image_55.png', 'image_56.png', 'image_57.png', 'image_58.png', 'image_59.png', 'image_60.png', 'image_61.png', 'image_62.png', 'image_63.png', 'image_64.png', 'image_65.png', 'image_66.png', 'image_67.png', 'image_68.png', 'image_69.png', 'image_70.png', 'image_71.png', 'image_72.png', 'image_73.png', 'image_74.png', 'image_75.png', 'image_76.png', 'image_77.png', 'image_78.png', 'image_79.png', 'image_80.png', 'image_81.png', 'image_82.png', 'image_83.png', 'image_84.png', 'image_85.png', 'image_86.png', 'image_87.png', 'image_88.png', 'image_89.png', 'image_90.png', 'image_91.png', 'image_92.png', 'image_93.png', 'image_94.png', 'image_95.png', 'image_96.png', 'image_97.png', 'image_98.png', 'image_99.png', 'image_100.png', 'image_101.png', 'image_102.png', 'image_103.png', 'image_104.png', 'image_105.png', 'image_106.png', 'image_107.png', 'image_108.png', 'image_109.png', 'image_110.png', 'image_111.png', 'image_112.png', 'image_113.png', 'image_114.png', 'image_115.png', 'image_116.png', 'image_117.png', 'image_118.png', 'image_119.png', 'image_120.png', 'image_121.png', 'image_122.png', 'image_123.png', 'image_124.png', 'image_125.png', 'image_126.png', 'image_127.png', 'image_128.png', 'image_129.png', 'image_130.png', 'image_131.png', 'image_132.png', 'image_133.png', 'image_134.png', 'image_135.png', 'image_136.png', 'image_137.png', 'image_138.png', 'image_139.png', 'image_140.png', 'image_141.png', 'image_142.png', 'image_143.png', 'image_144.png', 'image_145.png', 'image_146.png', 'image_147.png', 'image_148.png', 'image_149.png', 'image_150.png', 'image_151.png', 'image_152.png', 'image_153.png', 'image_154.png', 'image_155.png', 'image_156.png', 'image_157.png', 'image_158.png', 'image_159.png', 'image_160.png', 'image_161.png', 'image_162.png', 'image_163.png', 'image_164.png', 'image_165.png', 'image_166.png', 'image_167.png', 'image_168.png', 'image_169.png', 'image_170.png', 'image_171.png', 'image_172.png', 'image_173.png', 'image_174.png', 'image_175.png', 'image_176.png', 'image_177.png', 'image_178.png', 'image_179.png', 'image_180.png', 'image_181.png', 'image_182.png', 'image_183.png', 'image_184.png', 'image_185.png', 'image_186.png', 'image_187.png', 'image_188.png', 'image_189.png', 'image_190.png', 'image_191.png', 'image_192.png', 'image_193.png', 'image_194.png', 'image_195.png', 'image_196.png', 'image_197.png', 'image_198.png', 'image_199.png', 'image_200.png', 'image_201.png', 'image_202.png', 'image_203.png', 'image_204.png', 'image_205.png', 'image_206.png', 'image_207.png', 'image_208.png', 'image_209.png', 'image_210.png', 'image_211.png', 'image_212.png', 'image_213.png', 'image_214.png', 'image_215.png', 'image_216.png', 'image_217.png', 'image_218.png', 'image_219.png', 'image_220.png', 'image_221.png', 'image_222.png', 'image_223.png', 'image_224.png', 'image_225.png', 'image_226.png', 'image_227.png', 'image_228.png', 'image_229.png', 'image_230.png', 'image_231.png', 'image_232.png', 'image_233.png', 'image_234.png', 'image_235.png', 'image_236.png', 'image_237.png', 'image_238.png', 'image_239.png', 'image_240.png', 'image_241.png', 'image_242.png', 'image_243.png', 'image_244.png', 'image_245.png', 'image_246.png', 'image_247.png', 'image_248.png', 'image_249.png', 'image_250.png', 'image_251.png', 'image_252.png', 'image_253.png', 'image_254.png', 'image_255.png', 'image_256.png', 'image_257.png', 'image_258.png', 'image_259.png', 'image_260.png', 'image_261.png', 'image_262.png', 'image_263.png', 'image_264.png', 'image_265.png', 'image_266.png', 'image_267.png', 'image_268.png', 'image_269.png', 'image_270.png', 'image_271.png', 'image_272.png', 'image_273.png', 'image_274.png', 'image_275.png', 'image_276.png', 'image_277.png', 'image_278.png', 'image_279.png', 'image_280.png', 'image_281.png', 'image_282.png', 'image_283.png', 'image_284.png', 'image_285.png', 'image_286.png', 'image_287.png', 'image_288.png', 'image_289.png', 'image_290.png', 'image_291.png', 'image_292.png', 'image_293.png', 'image_294.png', 'image_295.png', 'image_296.png', 'image_297.png', 'image_298.png', 'image_299.png', 'image_300.png', 'image_301.png', 'image_302.png', 'image_303.png', 'image_304.png', 'image_305.png', 'image_306.png', 'image_307.png', 'image_308.png', 'image_309.png', 'image_310.png', 'image_311.png', 'image_312.png', 'image_313.png', 'image_314.png', 'image_315.png', 'image_316.png', 'image_317.png', 'image_318.png', 'image_319.png', 'image_320.png', 'image_321.png', 'image_322.png', 'image_323.png', 'image_324.png', 'image_325.png', 'image_326.png', 'image_327.png', 'image_328.png', 'image_329.png', 'image_330.png', 'image_331.png', 'image_332.png', 'image_333.png', 'image_334.png', 'image_335.png', 'image_336.png', 'image_337.png', 'image_338.png', 'image_339.png', 'image_340.png', 'image_341.png', 'image_342.png', 'image_343.png', 'image_344.png', 'image_345.png', 'image_346.png', 'image_347.png', 'image_348.png', 'image_349.png', 'image_350.png', 'image_351.png', 'image_352.png', 'image_353.png', 'image_354.png', 'image_355.png', 'image_356.png', 'image_357.png', 'image_358.png', 'image_359.png', 'image_360.png', 'image_361.png', 'image_362.png', 'image_363.png', 'image_364.png', 'image_365.png', 'image_366.png', 'image_367.png', 'image_368.png', 'image_369.png', 'image_370.png', 'image_371.png', 'image_372.png', 'image_373.png', 'image_374.png', 'image_375.png', 'image_376.png', 'image_377.png', 'image_378.png', 'image_379.png', 'image_380.png', 'image_381.png', 'image_382.png', 'image_383.png', 'image_384.png', 'image_385.png', 'image_386.png', 'image_387.png', 'image_388.png', 'image_389.png', 'image_390.png', 'image_391.png', 'image_392.png', 'image_393.png', 'image_394.png', 'image_395.png', 'image_396.png', 'image_397.png', 'image_398.png', 'image_399.png', 'image_400.png', 'image_401.png', 'image_402.png', 'image_403.png', 'image_404.png', 'image_405.png', 'image_406.png', 'image_407.png', 'image_408.png', 'image_409.png', 'image_410.png', 'image_411.png', 'image_412.png', 'image_413.png', 'image_414.png', 'image_415.png', 'image_416.png', 'image_417.png', 'image_418.png', 'image_419.png', 'image_420.png', 'image_421.png', 'image_422.png', 'image_423.png', 'image_424.png', 'image_425.png', 'image_426.png', 'image_427.png', 'image_428.png', 'image_429.png', 'image_430.png', 'image_431.png', 'image_432.png', 'image_433.png', 'image_434.png', 'image_435.png', 'image_436.png', 'image_437.png', 'image_438.png', 'image_439.png', 'image_440.png', 'image_441.png', 'image_442.png', 'image_443.png', 'image_444.png', 'image_445.png', 'image_446.png', 'image_447.png', 'image_448.png', 'image_449.png', 'image_450.png', 'image_451.png', 'image_452.png', 'image_453.png', 'image_454.png', 'image_455.png', 'image_456.png', 'image_457.png', 'image_458.png', 'image_459.png', 'image_460.png', 'image_461.png', 'image_462.png', 'image_463.png', 'image_464.png', 'image_465.png', 'image_466.png', 'image_467.png', 'image_468.png', 'image_469.png', 'image_470.png', 'image_471.png', 'image_472.png', 'image_473.png', 'image_474.png', 'image_475.png', 'image_476.png', 'image_477.png', 'image_478.png', 'image_479.png', 'image_480.png', 'image_481.png', 'image_482.png', 'image_483.png', 'image_484.png', 'image_485.png', 'image_486.png', 'image_487.png', 'image_488.png', 'image_489.png', 'image_490.png', 'image_491.png', 'image_492.png', 'image_493.png', 'image_494.png', 'image_495.png', 'image_496.png', 'image_497.png', 'image_498.png', 'image_499.png', 'image_500.png', 'image_501.png', 'image_502.png', 'image_503.png', 'image_504.png', 'image_505.png', 'image_506.png', 'image_507.png', 'image_508.png', 'image_509.png', 'image_510.png', 'image_511.png', 'image_512.png', 'image_513.png', 'image_514.png', 'image_515.png', 'image_516.png', 'image_517.png', 'image_518.png', 'image_519.png', 'image_520.png', 'image_521.png', 'image_522.png', 'image_523.png', 'image_524.png', 'image_525.png', 'image_526.png', 'image_527.png', 'image_528.png', 'image_529.png', 'image_530.png', 'image_531.png', 'image_532.png', 'image_533.png', 'image_534.png', 'image_535.png', 'image_536.png', 'image_537.png', 'image_538.png', 'image_539.png', 'image_540.png', 'image_541.png', 'image_542.png', 'image_543.png', 'image_544.png', 'image_545.png', 'image_546.png', 'image_547.png', 'image_548.png', 'image_549.png', 'image_550.png', 'image_551.png', 'image_552.png', 'image_553.png', 'image_554.png', 'image_555.png', 'image_556.png', 'image_557.png', 'image_558.png', 'image_559.png', 'image_560.png', 'image_561.png', 'image_562.png', 'image_563.png', 'image_564.png', 'image_565.png', 'image_566.png', 'image_567.png', 'image_568.png', 'image_569.png', 'image_570.png', 'image_571.png', 'image_572.png', 'image_573.png', 'image_574.png', 'image_575.png', 'image_576.png', 'image_577.png', 'image_578.png', 'image_579.png', 'image_580.png', 'image_581.png', 'image_582.png', 'image_583.png', 'image_584.png', 'image_585.png', 'image_586.png', 'image_587.png', 'image_588.png', 'image_589.png', 'image_590.png', 'image_591.png', 'image_592.png', 'image_593.png', 'image_594.png', 'image_595.png', 'image_596.png', 'image_597.png', 'image_598.png', 'image_599.png', 'image_600.png', 'image_601.png', 'image_602.png', 'image_603.png', 'image_604.png', 'image_605.png', 'image_606.png', 'image_607.png', 'image_608.png', 'image_609.png', 'image_610.png', 'image_611.png', 'image_612.png', 'image_613.png', 'image_614.png', 'image_615.png', 'image_616.png', 'image_617.png', 'image_618.png', 'image_619.png', 'image_620.png', 'image_621.png', 'image_622.png', 'image_623.png', 'image_624.png', 'image_625.png', 'image_626.png', 'image_627.png', 'image_628.png', 'image_629.png', 'image_630.png', 'image_631.png', 'image_632.png', 'image_633.png', 'image_634.png', 'image_635.png', 'image_636.png', 'image_637.png', 'image_638.png', 'image_639.png', 'image_640.png', 'image_641.png', 'image_642.png', 'image_643.png', 'image_644.png', 'image_645.png', 'image_646.png', 'image_647.png', 'image_648.png', 'image_649.png', 'image_650.png', 'image_651.png', 'image_652.png', 'image_653.png', 'image_654.png', 'image_655.png', 'image_656.png', 'image_657.png', 'image_658.png', 'image_659.png', 'image_660.png', 'image_661.png', 'image_662.png', 'image_663.png', 'image_664.png', 'image_665.png', 'image_666.png', 'image_667.png', 'image_668.png', 'image_669.png', 'image_670.png', 'image_671.png', 'image_672.png', 'image_673.png', 'image_674.png', 'image_675.png', 'image_676.png', 'image_677.png', 'image_678.png', 'image_679.png', 'image_680.png', 'image_681.png', 'image_682.png', 'image_683.png', 'image_684.png', 'image_685.png', 'image_686.png', 'image_687.png', 'image_688.png', 'image_689.png', 'image_690.png', 'image_691.png', 'image_692.png', 'image_693.png', 'image_694.png', 'image_695.png', 'image_696.png', 'image_697.png', 'image_698.png', 'image_699.png', 'image_700.png', 'image_701.png', 'image_702.png', 'image_703.png', 'image_704.png', 'image_705.png', 'image_706.png', 'image_707.png', 'image_708.png', 'image_709.png', 'image_710.png', 'image_711.png', 'image_712.png', 'image_713.png', 'image_714.png', 'image_715.png', 'image_716.png', 'image_717.png', 'image_718.png', 'image_719.png', 'image_720.png', 'image_721.png', 'image_722.png', 'image_723.png', 'image_724.png', 'image_725.png', 'image_726.png', 'image_727.png', 'image_728.png', 'image_729.png', 'image_730.png', 'image_731.png', 'image_732.png', 'image_733.png', 'image_734.png', 'image_735.png', 'image_736.png', 'image_737.png', 'image_738.png', 'image_739.png', 'image_740.png', 'image_741.png', 'image_742.png', 'image_743.png', 'image_744.png', 'image_745.png', 'image_746.png', 'image_747.png', 'image_748.png', 'image_749.png', 'image_750.png', 'image_751.png', 'image_752.png', 'image_753.png', 'image_754.png', 'image_755.png', 'image_756.png', 'image_757.png', 'image_758.png', 'image_759.png', 'image_760.png', 'image_761.png', 'image_762.png', 'image_763.png', 'image_764.png', 'image_765.png', 'image_766.png', 'image_767.png', 'image_768.png', 'image_769.png', 'image_770.png']\n"
     ]
    }
   ],
   "source": [
    "print(filenames)"
   ]
  },
  {
   "cell_type": "code",
   "execution_count": 9,
   "metadata": {
    "collapsed": false
   },
   "outputs": [
    {
     "name": "stdout",
     "output_type": "stream",
     "text": [
      "image_1.png\n",
      "image_2.png\n",
      "image_3.png\n",
      "image_4.png\n",
      "image_5.png\n",
      "image_6.png\n",
      "image_7.png\n",
      "image_8.png\n",
      "image_9.png\n",
      "image_10.png\n",
      "image_11.png\n",
      "image_12.png\n",
      "image_13.png\n",
      "image_14.png\n",
      "image_15.png\n",
      "image_16.png\n",
      "image_17.png\n",
      "image_18.png\n",
      "image_19.png\n",
      "image_20.png\n",
      "image_21.png\n",
      "image_22.png\n",
      "image_23.png\n",
      "image_24.png\n",
      "image_25.png\n",
      "image_26.png\n",
      "image_27.png\n",
      "image_28.png\n",
      "image_29.png\n",
      "image_30.png\n",
      "image_31.png\n",
      "image_32.png\n",
      "image_33.png\n",
      "image_34.png\n",
      "image_35.png\n",
      "image_36.png\n",
      "image_37.png\n",
      "image_38.png\n",
      "image_39.png\n",
      "image_40.png\n",
      "image_41.png\n",
      "image_42.png\n",
      "image_43.png\n",
      "image_44.png\n",
      "image_45.png\n",
      "image_46.png\n",
      "image_47.png\n",
      "image_48.png\n",
      "image_49.png\n",
      "image_50.png\n",
      "image_51.png\n",
      "image_52.png\n",
      "image_53.png\n",
      "image_54.png\n",
      "image_55.png\n",
      "image_56.png\n",
      "image_57.png\n",
      "image_58.png\n",
      "image_59.png\n",
      "image_60.png\n",
      "image_61.png\n",
      "image_62.png\n",
      "image_63.png\n",
      "image_64.png\n",
      "image_65.png\n",
      "image_66.png\n",
      "image_67.png\n",
      "image_68.png\n",
      "image_69.png\n",
      "image_70.png\n",
      "image_71.png\n",
      "image_72.png\n",
      "image_73.png\n",
      "image_74.png\n",
      "image_75.png\n",
      "image_76.png\n",
      "image_77.png\n",
      "image_78.png\n",
      "image_79.png\n",
      "image_80.png\n",
      "image_81.png\n",
      "image_82.png\n",
      "image_83.png\n",
      "image_84.png\n",
      "image_85.png\n",
      "image_86.png\n",
      "image_87.png\n",
      "image_88.png\n",
      "image_89.png\n",
      "image_90.png\n",
      "image_91.png\n",
      "image_92.png\n",
      "image_93.png\n",
      "image_94.png\n",
      "image_95.png\n",
      "image_96.png\n",
      "image_97.png\n",
      "image_98.png\n",
      "image_99.png\n",
      "image_100.png\n",
      "image_101.png\n",
      "image_102.png\n",
      "image_103.png\n",
      "image_104.png\n",
      "image_105.png\n",
      "image_106.png\n",
      "image_107.png\n",
      "image_108.png\n",
      "image_109.png\n",
      "image_110.png\n",
      "image_111.png\n",
      "image_112.png\n",
      "image_113.png\n",
      "image_114.png\n",
      "image_115.png\n",
      "image_116.png\n",
      "image_117.png\n",
      "image_118.png\n",
      "image_119.png\n",
      "image_120.png\n",
      "image_121.png\n",
      "image_122.png\n",
      "image_123.png\n",
      "image_124.png\n",
      "image_125.png\n",
      "image_126.png\n",
      "image_127.png\n",
      "image_128.png\n",
      "image_129.png\n",
      "image_130.png\n",
      "image_131.png\n",
      "image_132.png\n",
      "image_133.png\n",
      "image_134.png\n",
      "image_135.png\n",
      "image_136.png\n",
      "image_137.png\n",
      "image_138.png\n",
      "image_139.png\n",
      "image_140.png\n",
      "image_141.png\n",
      "image_142.png\n",
      "image_143.png\n",
      "image_144.png\n",
      "image_145.png\n",
      "image_146.png\n",
      "image_147.png\n",
      "image_148.png\n",
      "image_149.png\n",
      "image_150.png\n",
      "image_151.png\n",
      "image_152.png\n",
      "image_153.png\n",
      "image_154.png\n",
      "image_155.png\n",
      "image_156.png\n",
      "image_157.png\n",
      "image_158.png\n",
      "image_159.png\n",
      "image_160.png\n",
      "image_161.png\n",
      "image_162.png\n",
      "image_163.png\n",
      "image_164.png\n",
      "image_165.png\n",
      "image_166.png\n",
      "image_167.png\n",
      "image_168.png\n",
      "image_169.png\n",
      "image_170.png\n",
      "image_171.png\n",
      "image_172.png\n",
      "image_173.png\n",
      "image_174.png\n",
      "image_175.png\n",
      "image_176.png\n",
      "image_177.png\n",
      "image_178.png\n",
      "image_179.png\n",
      "image_180.png\n",
      "image_181.png\n",
      "image_182.png\n",
      "image_183.png\n",
      "image_184.png\n",
      "image_185.png\n",
      "image_186.png\n",
      "image_187.png\n",
      "image_188.png\n",
      "image_189.png\n",
      "image_190.png\n",
      "image_191.png\n",
      "image_192.png\n",
      "image_193.png\n",
      "image_194.png\n",
      "image_195.png\n",
      "image_196.png\n",
      "image_197.png\n",
      "image_198.png\n",
      "image_199.png\n",
      "image_200.png\n",
      "image_201.png\n",
      "image_202.png\n",
      "image_203.png\n",
      "image_204.png\n",
      "image_205.png\n",
      "image_206.png\n",
      "image_207.png\n",
      "image_208.png\n",
      "image_209.png\n",
      "image_210.png\n",
      "image_211.png\n",
      "image_212.png\n",
      "image_213.png\n",
      "image_214.png\n",
      "image_215.png\n",
      "image_216.png\n",
      "image_217.png\n",
      "image_218.png\n",
      "image_219.png\n",
      "image_220.png\n",
      "image_221.png\n",
      "image_222.png\n",
      "image_223.png\n",
      "image_224.png\n",
      "image_225.png\n",
      "image_226.png\n",
      "image_227.png\n",
      "image_228.png\n",
      "image_229.png\n",
      "image_230.png\n",
      "image_231.png\n",
      "image_232.png\n",
      "image_233.png\n",
      "image_234.png\n",
      "image_235.png\n",
      "image_236.png\n",
      "image_237.png\n",
      "image_238.png\n",
      "image_239.png\n",
      "image_240.png\n",
      "image_241.png\n",
      "image_242.png\n",
      "image_243.png\n",
      "image_244.png\n",
      "image_245.png\n",
      "image_246.png\n",
      "image_247.png\n",
      "image_248.png\n",
      "image_249.png\n",
      "image_250.png\n",
      "image_251.png\n",
      "image_252.png\n",
      "image_253.png\n",
      "image_254.png\n",
      "image_255.png\n",
      "image_256.png\n",
      "image_257.png\n",
      "image_258.png\n",
      "image_259.png\n",
      "image_260.png\n",
      "image_261.png\n",
      "image_262.png\n",
      "image_263.png\n",
      "image_264.png\n",
      "image_265.png\n",
      "image_266.png\n",
      "image_267.png\n",
      "image_268.png\n",
      "image_269.png\n",
      "image_270.png\n",
      "image_271.png\n",
      "image_272.png\n",
      "image_273.png\n",
      "image_274.png\n",
      "image_275.png\n",
      "image_276.png\n",
      "image_277.png\n",
      "image_278.png\n",
      "image_279.png\n",
      "image_280.png\n",
      "image_281.png\n",
      "image_282.png\n",
      "image_283.png\n",
      "image_284.png\n",
      "image_285.png\n",
      "image_286.png\n",
      "image_287.png\n",
      "image_288.png\n",
      "image_289.png\n",
      "image_290.png\n",
      "image_291.png\n",
      "image_292.png\n",
      "image_293.png\n",
      "image_294.png\n",
      "image_295.png\n",
      "image_296.png\n",
      "image_297.png\n",
      "image_298.png\n",
      "image_299.png\n",
      "image_300.png\n",
      "image_301.png\n",
      "image_302.png\n",
      "image_303.png\n",
      "image_304.png\n",
      "image_305.png\n",
      "image_306.png\n",
      "image_307.png\n",
      "image_308.png\n",
      "image_309.png\n",
      "image_310.png\n",
      "image_311.png\n",
      "image_312.png\n",
      "image_313.png\n",
      "image_314.png\n",
      "image_315.png\n",
      "image_316.png\n",
      "image_317.png\n",
      "image_318.png\n",
      "image_319.png\n",
      "image_320.png\n",
      "image_321.png\n",
      "image_322.png\n",
      "image_323.png\n",
      "image_324.png\n",
      "image_325.png\n",
      "image_326.png\n",
      "image_327.png\n",
      "image_328.png\n",
      "image_329.png\n",
      "image_330.png\n",
      "image_331.png\n",
      "image_332.png\n",
      "image_333.png\n",
      "image_334.png\n",
      "image_335.png\n",
      "image_336.png\n",
      "image_337.png\n",
      "image_338.png\n",
      "image_339.png\n",
      "image_340.png\n",
      "image_341.png\n",
      "image_342.png\n",
      "image_343.png\n",
      "image_344.png\n",
      "image_345.png\n",
      "image_346.png\n",
      "image_347.png\n",
      "image_348.png\n",
      "image_349.png\n",
      "image_350.png\n",
      "image_351.png\n",
      "image_352.png\n",
      "image_353.png\n",
      "image_354.png\n",
      "image_355.png\n",
      "image_356.png\n",
      "image_357.png\n",
      "image_358.png\n",
      "image_359.png\n",
      "image_360.png\n",
      "image_361.png\n",
      "image_362.png\n",
      "image_363.png\n",
      "image_364.png\n",
      "image_365.png\n",
      "image_366.png\n",
      "image_367.png\n",
      "image_368.png\n",
      "image_369.png\n",
      "image_370.png\n",
      "image_371.png\n",
      "image_372.png\n",
      "image_373.png\n",
      "image_374.png\n",
      "image_375.png\n",
      "image_376.png\n",
      "image_377.png\n",
      "image_378.png\n",
      "image_379.png\n",
      "image_380.png\n",
      "image_381.png\n",
      "image_382.png\n",
      "image_383.png\n",
      "image_384.png\n",
      "image_385.png\n",
      "image_386.png\n",
      "image_387.png\n",
      "image_388.png\n",
      "image_389.png\n",
      "image_390.png\n",
      "image_391.png\n",
      "image_392.png\n",
      "image_393.png\n",
      "image_394.png\n",
      "image_395.png\n",
      "image_396.png\n",
      "image_397.png\n",
      "image_398.png\n",
      "image_399.png\n",
      "image_400.png\n",
      "image_401.png\n",
      "image_402.png\n",
      "image_403.png\n",
      "image_404.png\n",
      "image_405.png\n",
      "image_406.png\n",
      "image_407.png\n",
      "image_408.png\n",
      "image_409.png\n",
      "image_410.png\n",
      "image_411.png\n",
      "image_412.png\n",
      "image_413.png\n",
      "image_414.png\n",
      "image_415.png\n",
      "image_416.png\n",
      "image_417.png\n",
      "image_418.png\n",
      "image_419.png\n",
      "image_420.png\n",
      "image_421.png\n",
      "image_422.png\n",
      "image_423.png\n",
      "image_424.png\n",
      "image_425.png\n",
      "image_426.png\n",
      "image_427.png\n",
      "image_428.png\n",
      "image_429.png\n",
      "image_430.png\n",
      "image_431.png\n",
      "image_432.png\n",
      "image_433.png\n",
      "image_434.png\n",
      "image_435.png\n",
      "image_436.png\n",
      "image_437.png\n",
      "image_438.png\n",
      "image_439.png\n",
      "image_440.png\n",
      "image_441.png\n",
      "image_442.png\n",
      "image_443.png\n",
      "image_444.png\n",
      "image_445.png\n",
      "image_446.png\n",
      "image_447.png\n",
      "image_448.png\n",
      "image_449.png\n",
      "image_450.png\n",
      "image_451.png\n",
      "image_452.png\n",
      "image_453.png\n",
      "image_454.png\n",
      "image_455.png\n",
      "image_456.png\n",
      "image_457.png\n",
      "image_458.png\n",
      "image_459.png\n",
      "image_460.png\n",
      "image_461.png\n",
      "image_462.png\n",
      "image_463.png\n",
      "image_464.png\n",
      "image_465.png\n",
      "image_466.png\n",
      "image_467.png\n",
      "image_468.png\n",
      "image_469.png\n",
      "image_470.png\n",
      "image_471.png\n",
      "image_472.png\n",
      "image_473.png\n",
      "image_474.png\n",
      "image_475.png\n",
      "image_476.png\n",
      "image_477.png\n",
      "image_478.png\n",
      "image_479.png\n",
      "image_480.png\n",
      "image_481.png\n",
      "image_482.png\n",
      "image_483.png\n",
      "image_484.png\n",
      "image_485.png\n",
      "image_486.png\n",
      "image_487.png\n",
      "image_488.png\n",
      "image_489.png\n",
      "image_490.png\n",
      "image_491.png\n",
      "image_492.png\n",
      "image_493.png\n",
      "image_494.png\n",
      "image_495.png\n",
      "image_496.png\n",
      "image_497.png\n",
      "image_498.png\n",
      "image_499.png\n",
      "image_500.png\n",
      "image_501.png\n",
      "image_502.png\n",
      "image_503.png\n",
      "image_504.png\n",
      "image_505.png\n",
      "image_506.png\n",
      "image_507.png\n",
      "image_508.png\n",
      "image_509.png\n",
      "image_510.png\n",
      "image_511.png\n",
      "image_512.png\n",
      "image_513.png\n",
      "image_514.png\n",
      "image_515.png\n",
      "image_516.png\n",
      "image_517.png\n",
      "image_518.png\n",
      "image_519.png\n",
      "image_520.png\n",
      "image_521.png\n",
      "image_522.png\n",
      "image_523.png\n",
      "image_524.png\n",
      "image_525.png\n",
      "image_526.png\n",
      "image_527.png\n",
      "image_528.png\n",
      "image_529.png\n",
      "image_530.png\n",
      "image_531.png\n",
      "image_532.png\n",
      "image_533.png\n",
      "image_534.png\n",
      "image_535.png\n",
      "image_536.png\n",
      "image_537.png\n",
      "image_538.png\n",
      "image_539.png\n",
      "image_540.png\n",
      "image_541.png\n",
      "image_542.png\n",
      "image_543.png\n",
      "image_544.png\n",
      "image_545.png\n",
      "image_546.png\n",
      "image_547.png\n",
      "image_548.png\n",
      "image_549.png\n",
      "image_550.png\n",
      "image_551.png\n",
      "image_552.png\n",
      "image_553.png\n",
      "image_554.png\n",
      "image_555.png\n",
      "image_556.png\n",
      "image_557.png\n",
      "image_558.png\n",
      "image_559.png\n",
      "image_560.png\n",
      "image_561.png\n",
      "image_562.png\n",
      "image_563.png\n",
      "image_564.png\n",
      "image_565.png\n",
      "image_566.png\n",
      "image_567.png\n",
      "image_568.png\n",
      "image_569.png\n",
      "image_570.png\n",
      "image_571.png\n",
      "image_572.png\n",
      "image_573.png\n",
      "image_574.png\n",
      "image_575.png\n",
      "image_576.png\n",
      "image_577.png\n",
      "image_578.png\n",
      "image_579.png\n",
      "image_580.png\n",
      "image_581.png\n",
      "image_582.png\n",
      "image_583.png\n",
      "image_584.png\n",
      "image_585.png\n",
      "image_586.png\n",
      "image_587.png\n",
      "image_588.png\n",
      "image_589.png\n",
      "image_590.png\n",
      "image_591.png\n",
      "image_592.png\n",
      "image_593.png\n",
      "image_594.png\n",
      "image_595.png\n",
      "image_596.png\n",
      "image_597.png\n",
      "image_598.png\n",
      "image_599.png\n",
      "image_600.png\n",
      "image_601.png\n",
      "image_602.png\n",
      "image_603.png\n",
      "image_604.png\n",
      "image_605.png\n",
      "image_606.png\n",
      "image_607.png\n",
      "image_608.png\n",
      "image_609.png\n",
      "image_610.png\n",
      "image_611.png\n",
      "image_612.png\n",
      "image_613.png\n",
      "image_614.png\n",
      "image_615.png\n",
      "image_616.png\n",
      "image_617.png\n",
      "image_618.png\n",
      "image_619.png\n",
      "image_620.png\n",
      "image_621.png\n",
      "image_622.png\n",
      "image_623.png\n",
      "image_624.png\n",
      "image_625.png\n",
      "image_626.png\n",
      "image_627.png\n",
      "image_628.png\n",
      "image_629.png\n",
      "image_630.png\n",
      "image_631.png\n",
      "image_632.png\n",
      "image_633.png\n",
      "image_634.png\n",
      "image_635.png\n",
      "image_636.png\n",
      "image_637.png\n",
      "image_638.png\n",
      "image_639.png\n",
      "image_640.png\n",
      "image_641.png\n",
      "image_642.png\n",
      "image_643.png\n",
      "image_644.png\n",
      "image_645.png\n",
      "image_646.png\n",
      "image_647.png\n",
      "image_648.png\n",
      "image_649.png\n",
      "image_650.png\n",
      "image_651.png\n",
      "image_652.png\n",
      "image_653.png\n",
      "image_654.png\n",
      "image_655.png\n",
      "image_656.png\n",
      "image_657.png\n",
      "image_658.png\n",
      "image_659.png\n",
      "image_660.png\n",
      "image_661.png\n",
      "image_662.png\n",
      "image_663.png\n",
      "image_664.png\n",
      "image_665.png\n",
      "image_666.png\n",
      "image_667.png\n",
      "image_668.png\n",
      "image_669.png\n",
      "image_670.png\n",
      "image_671.png\n",
      "image_672.png\n",
      "image_673.png\n",
      "image_674.png\n",
      "image_675.png\n",
      "image_676.png\n",
      "image_677.png\n",
      "image_678.png\n",
      "image_679.png\n",
      "image_680.png\n",
      "image_681.png\n",
      "image_682.png\n",
      "image_683.png\n",
      "image_684.png\n",
      "image_685.png\n",
      "image_686.png\n",
      "image_687.png\n",
      "image_688.png\n",
      "image_689.png\n",
      "image_690.png\n",
      "image_691.png\n",
      "image_692.png\n",
      "image_693.png\n",
      "image_694.png\n",
      "image_695.png\n",
      "image_696.png\n",
      "image_697.png\n",
      "image_698.png\n",
      "image_699.png\n",
      "image_700.png\n",
      "image_701.png\n",
      "image_702.png\n",
      "image_703.png\n",
      "image_704.png\n",
      "image_705.png\n",
      "image_706.png\n",
      "image_707.png\n",
      "image_708.png\n",
      "image_709.png\n",
      "image_710.png\n",
      "image_711.png\n",
      "image_712.png\n",
      "image_713.png\n",
      "image_714.png\n",
      "image_715.png\n",
      "image_716.png\n",
      "image_717.png\n",
      "image_718.png\n",
      "image_719.png\n",
      "image_720.png\n",
      "image_721.png\n",
      "image_722.png\n",
      "image_723.png\n",
      "image_724.png\n",
      "image_725.png\n",
      "image_726.png\n",
      "image_727.png\n",
      "image_728.png\n",
      "image_729.png\n",
      "image_730.png\n",
      "image_731.png\n",
      "image_732.png\n",
      "image_733.png\n",
      "image_734.png\n",
      "image_735.png\n",
      "image_736.png\n",
      "image_737.png\n",
      "image_738.png\n",
      "image_739.png\n",
      "image_740.png\n",
      "image_741.png\n",
      "image_742.png\n",
      "image_743.png\n",
      "image_744.png\n",
      "image_745.png\n",
      "image_746.png\n",
      "image_747.png\n",
      "image_748.png\n",
      "image_749.png\n",
      "image_750.png\n",
      "image_751.png\n",
      "image_752.png\n",
      "image_753.png\n",
      "image_754.png\n",
      "image_755.png\n",
      "image_756.png\n",
      "image_757.png\n",
      "image_758.png\n",
      "image_759.png\n",
      "image_760.png\n",
      "image_761.png\n",
      "image_762.png\n",
      "image_763.png\n",
      "image_764.png\n",
      "image_765.png\n",
      "image_766.png\n",
      "image_767.png\n",
      "image_768.png\n",
      "image_769.png\n",
      "image_770.png\n"
     ]
    }
   ],
   "source": [
    "images = []\n",
    "for filename in filenames :\n",
    "    filepath = os.path.join(root,filename)\n",
    "    image = ndimage.imread(filepath, mode = \"L\")\n",
    "    images.append(image)\n",
    "    print(filename)"
   ]
  },
  {
   "cell_type": "code",
   "execution_count": 10,
   "metadata": {
    "collapsed": false
   },
   "outputs": [
    {
     "data": {
      "text/plain": [
       "<matplotlib.image.AxesImage at 0x7fe3f290e610>"
      ]
     },
     "execution_count": 10,
     "metadata": {},
     "output_type": "execute_result"
    },
    {
     "data": {
      "image/png": "[encoded data removed]",
      "text/plain": [
       "<matplotlib.figure.Figure at 0x7fe3f2edf2d0>"
      ]
     },
     "metadata": {},
     "output_type": "display_data"
    }
   ],
   "source": [
    "plt.imshow(images[0],cmap = \"gray\")"
   ]
  },
  {
   "cell_type": "code",
   "execution_count": 17,
   "metadata": {
    "collapsed": true
   },
   "outputs": [],
   "source": [
    "labels = np.load('resized_labels.npy')\n",
    "labels_list = []\n",
    "for i in range(len(labels)):\n",
    "    labels_list.append(labels[i])"
   ]
  },
  {
   "cell_type": "code",
   "execution_count": 18,
   "metadata": {
    "collapsed": false
   },
   "outputs": [
    {
     "data": {
      "text/plain": [
       "770"
      ]
     },
     "execution_count": 18,
     "metadata": {},
     "output_type": "execute_result"
    }
   ],
   "source": [
    "len(labels_list)"
   ]
  },
  {
   "cell_type": "code",
   "execution_count": 19,
   "metadata": {
    "collapsed": false
   },
   "outputs": [
    {
     "data": {
      "text/plain": [
       "array([ 0.,  1.,  2.,  3.,  4.,  5.,  6.,  7.])"
      ]
     },
     "execution_count": 19,
     "metadata": {},
     "output_type": "execute_result"
    }
   ],
   "source": [
    "np.unique(labels_list)"
   ]
  },
  {
   "cell_type": "code",
   "execution_count": 24,
   "metadata": {
    "collapsed": true
   },
   "outputs": [],
   "source": [
    "train_labels = np.zeros((770,496,64,8))"
   ]
  },
  {
   "cell_type": "code",
   "execution_count": 25,
   "metadata": {
    "collapsed": true
   },
   "outputs": [],
   "source": [
    "for i in range(len(labels_list)) :\n",
    "    for j in range(496) :\n",
    "        for k in range(64):\n",
    "            if(labels_list[i][j][k] == 0):\n",
    "                train_labels[i][j][k][0] = 1\n",
    "            if(labels_list[i][j][k] == 1):\n",
    "                train_labels[i][j][k][1] = 1\n",
    "            if(labels_list[i][j][k] == 2):\n",
    "                train_labels[i][j][k][2] = 1\n",
    "            if(labels_list[i][j][k] == 3):\n",
    "                train_labels[i][j][k][3] = 1\n",
    "            if(labels_list[i][j][k] == 4):\n",
    "                train_labels[i][j][k][4] = 1\n",
    "            if(labels_list[i][j][k] == 5):\n",
    "                train_labels[i][j][k][5] = 1\n",
    "            if(labels_list[i][j][k] == 6):\n",
    "                train_labels[i][j][k][6] = 1\n",
    "            if(labels_list[i][j][k] == 7):\n",
    "                train_labels[i][j][k][7] = 1"
   ]
  },
  {
   "cell_type": "code",
   "execution_count": 26,
   "metadata": {
    "collapsed": false
   },
   "outputs": [
    {
     "data": {
      "text/plain": [
       "(770, 496, 64, 8)"
      ]
     },
     "execution_count": 26,
     "metadata": {},
     "output_type": "execute_result"
    }
   ],
   "source": [
    "train_labels.shape"
   ]
  },
  {
   "cell_type": "code",
   "execution_count": 27,
   "metadata": {
    "collapsed": false
   },
   "outputs": [
    {
     "data": {
      "text/plain": [
       "array([ 1.,  0.,  0.,  0.,  0.,  0.,  0.,  0.])"
      ]
     },
     "execution_count": 27,
     "metadata": {},
     "output_type": "execute_result"
    }
   ],
   "source": [
    "train_labels[0][0][0]"
   ]
  },
  {
   "cell_type": "code",
   "execution_count": 28,
   "metadata": {
    "collapsed": false
   },
   "outputs": [
    {
     "name": "stdout",
     "output_type": "stream",
     "text": [
      "770\n",
      "(496, 64, 1)\n",
      "[4, 7, 9, 10, 13, 15, 17, 18, 20, 22, 25, 26, 30, 31, 33, 34, 35, 38, 40, 41, 42, 43, 44, 46, 49, 51, 52, 53, 54, 56, 57, 58, 61, 62, 63, 65, 66, 67, 68, 69, 70, 71, 72, 73, 74, 75, 76, 77, 79, 80, 85, 89, 91, 92, 93, 94, 95, 97, 98, 100, 103, 104, 105, 107, 111, 113, 115, 117, 118, 119, 121, 122, 124, 126, 127, 130, 132, 134, 136, 137, 138, 139, 141, 142, 143, 144, 145, 146, 148, 149, 150, 151, 152, 153, 155, 157, 158, 159, 160, 161, 163, 164, 165, 169, 170, 171, 173, 176, 178, 179, 180, 181, 182, 183, 184, 185, 186, 190, 193, 194, 195, 196, 197, 200, 202, 203, 204, 205, 207, 210, 211, 212, 213, 214, 215, 216, 218, 220, 222, 223, 224, 225, 227, 229, 231, 232, 233, 236, 238, 239, 240, 246, 247, 249, 253, 255, 256, 257, 258, 260, 261, 262, 263, 264, 267, 268, 269, 270, 275, 276, 277, 278, 279, 280, 281, 283, 284, 287, 288, 291, 292, 295, 297, 298, 299, 302, 303, 304, 306, 307, 308, 309, 313, 314, 317, 318, 319, 321, 322, 323, 324, 325, 327, 328, 329, 330, 332, 333, 334, 335, 336, 337, 339, 344, 345, 346, 347, 348, 349, 350, 351, 353, 354, 356, 357, 358, 360, 361, 363, 365, 367, 368, 369, 371, 372, 373, 374, 377, 378, 379, 381, 382, 383, 384, 386, 388, 389, 390, 391, 392, 393, 394, 395, 396, 398, 399, 400, 402, 403, 404, 405, 406, 407, 409, 411, 412, 415, 417, 418, 420, 421, 422, 423, 424, 426, 428, 430, 431, 432, 433, 434, 435, 437, 438, 439, 442, 443, 445, 446, 447, 448, 449, 450, 454, 455, 456, 457, 459, 461, 462, 463, 464, 465, 469, 470, 471, 472, 473, 474, 475, 476, 477, 478, 480, 482, 485, 486, 487, 488, 491, 492, 493, 494, 496, 497, 498, 500, 501, 504, 505, 507, 508, 509, 510, 512, 513, 514, 515, 516, 518, 520, 522, 523, 524, 525, 526, 528, 529, 530, 531, 534, 535, 536, 538, 542, 543, 546, 548, 549, 550, 551, 552, 553, 554, 555, 556, 557, 558, 559, 561, 565, 566, 570, 571, 576, 580, 581, 583, 584, 585, 586, 587, 590, 591, 592, 593, 594, 596, 597, 598, 599, 600, 601, 603, 604, 609, 610, 611, 612, 613, 617, 619, 620, 622, 623, 624, 625, 626, 627, 629, 630, 631, 632, 634, 635, 638, 644, 645, 646, 647, 648, 650, 651, 652, 653, 657, 658, 659, 661, 662, 663, 665, 667, 668, 669, 670, 672, 674, 676, 677, 678, 679, 680, 681, 685, 686, 688, 689, 691, 692, 693, 695, 696, 697, 699, 700, 704, 705, 706, 707, 709, 711, 713, 714, 715, 716, 719, 721, 722, 725, 726, 727, 728, 729, 730, 731, 732, 733, 734, 736, 739, 740, 742, 744, 745, 746, 747, 750, 752, 753, 754, 755, 756, 758, 761, 763, 764, 766, 768, 769]\n",
      "[0, 1, 2, 3, 5, 6, 8, 11, 12, 14, 16, 19, 21, 23, 24, 27, 28, 29, 32, 36, 37, 39, 45, 47, 48, 50, 55, 59, 60, 64, 78, 81, 82, 83, 84, 86, 87, 88, 90, 96, 99, 101, 102, 106, 108, 109, 110, 112, 114, 116, 120, 123, 125, 128, 129, 131, 133, 135, 140, 147, 154, 156, 162, 166, 167, 168, 172, 174, 175, 177, 187, 188, 189, 191, 192, 198, 199, 201, 206, 208, 209, 217, 219, 221, 226, 228, 230, 234, 235, 237, 241, 242, 243, 244, 245, 248, 250, 251, 252, 254, 259, 265, 266, 271, 272, 273, 274, 282, 285, 286, 289, 290, 293, 294, 296, 300, 301, 305, 310, 311, 312, 315, 316, 320, 326, 331, 338, 340, 341, 342, 343, 352, 355, 359, 362, 364, 366, 370, 375, 376, 380, 385, 387, 397, 401, 408, 410, 413, 414, 416, 419, 425, 427, 429, 436, 440, 441, 444, 451, 452, 453, 458, 460, 466, 467, 468, 479, 481, 483, 484, 489, 490, 495, 499, 502, 503, 506, 511, 517, 519, 521, 527, 532, 533, 537, 539, 540, 541, 544, 545, 547, 560, 562, 563, 564, 567, 568, 569, 572, 573, 574, 575, 577, 578, 579, 582, 588, 589, 595, 602, 605, 606, 607, 608, 614, 615, 616, 618, 621, 628, 633, 636, 637, 639, 640, 641, 642, 643, 649, 654, 655, 656, 660, 664, 666, 671, 673, 675, 682, 683, 684, 687, 690, 694, 698, 701, 702, 703, 708, 710, 712, 717, 718, 720, 723, 724, 735, 737, 738, 741, 743, 748, 749, 751, 757, 759, 760, 762, 765, 767]\n"
     ]
    }
   ],
   "source": [
    "images=np.array(images)\n",
    "print(images.shape[0])\n",
    "images = images.reshape(images.shape[0],496,64,1)\n",
    "\n",
    "print(images[0].shape)\n",
    "train_indices = np.random.choice(770,500,replace = False)\n",
    "print(sorted(train_indices))\n",
    "train_images_random = []\n",
    "train_labels_random = []\n",
    "\n",
    "for i in train_indices:\n",
    "    train_images_random.append(images[i])\n",
    "    train_labels_random.append(train_labels[i])\n",
    "\n",
    "test_indices = [x for x in range(770) if x not in train_indices]\n",
    "print(test_indices)\n",
    "test_images = []\n",
    "test_labels = []\n",
    "for i in test_indices:\n",
    "    test_images.append(images[i])\n",
    "    test_labels.append(train_labels[i])"
   ]
  },
  {
   "cell_type": "code",
   "execution_count": 29,
   "metadata": {
    "collapsed": true
   },
   "outputs": [],
   "source": [
    "train_images = np.array(train_images_random)\n",
    "train_labels = np.array(train_labels_random)\n",
    "test_images = np.array(test_images)\n",
    "test_labels = np.array(test_labels)"
   ]
  },
  {
   "cell_type": "code",
   "execution_count": 30,
   "metadata": {
    "collapsed": true
   },
   "outputs": [],
   "source": [
    "train_images = train_images.astype('float32')\n",
    "train_labels = train_labels.astype('float32')\n",
    "test_images = test_images.astype('float32')\n",
    "test_labels = test_labels.astype('float32')"
   ]
  },
  {
   "cell_type": "code",
   "execution_count": 31,
   "metadata": {
    "collapsed": false
   },
   "outputs": [
    {
     "name": "stdout",
     "output_type": "stream",
     "text": [
      "(500, 496, 64, 1)\n",
      "(270, 496, 64, 1)\n",
      "(500, 496, 64, 8)\n"
     ]
    }
   ],
   "source": [
    "print(train_images.shape)\n",
    "print(test_images.shape)\n",
    "print(train_labels.shape)"
   ]
  },
  {
   "cell_type": "code",
   "execution_count": 9,
   "metadata": {
    "collapsed": true
   },
   "outputs": [],
   "source": [
    "data_shape = 496*64"
   ]
  },
  {
   "cell_type": "code",
   "execution_count": 10,
   "metadata": {
    "collapsed": true
   },
   "outputs": [],
   "source": [
    "weight_decay = 0.0001"
   ]
  },
  {
   "cell_type": "code",
   "execution_count": 23,
   "metadata": {
    "collapsed": true
   },
   "outputs": [],
   "source": [
    "def get_frontend(input_width,input_height) :\n",
    "    \n",
    "    model = Sequential()\n",
    "    \n",
    "    model.add(Conv2D(64,(3,3),activation='relu',padding = 'same',name = 'conv1_1',input_shape =(input_width, input_height, 3)))\n",
    "    model.add(Conv2D(64,(3,3),activation='relu',padding = 'same',name = 'conv1_2'))\n",
    "    model.add(MaxPooling2D(pool_size=(2,2),name = 'pool_1'))\n",
    "\n",
    "    \n",
    "    model.add(Conv2D(128,(3,3),activation='relu',padding = 'same',name = 'conv2_1'))\n",
    "    model.add(Conv2D(128,(3,3),activation='relu',padding = 'same',name = 'conv2_2'))\n",
    "    model.add(MaxPooling2D(pool_size=(2,2),name = 'pool_2'))\n",
    "    \n",
    "    model.add(Conv2D(256,(3,3),activation='relu',padding = 'same',name = 'conv3_1'))\n",
    "    model.add(Conv2D(256,(3,3),activation='relu',padding = 'same',name = 'conv3_2'))\n",
    "    model.add(Conv2D(256,(3,3),activation='relu',padding = 'same',name = 'conv3_3'))\n",
    "    model.add(MaxPooling2D(pool_size=(2,2),name = 'pool_3'))\n",
    "    \n",
    "    model.add(Conv2D(512,(3,3),activation='relu',padding = 'same',name = 'conv4_1'))\n",
    "    model.add(Conv2D(512,(3,3),activation='relu',padding = 'same',name = 'conv4_2'))\n",
    "    model.add(Conv2D(512,(3,3),activation='relu',padding = 'same',name = 'conv4_3'))\n",
    "    \n",
    "    model.add(Conv2D(512,(3,3),activation='relu',dilation_rate= (2,2), padding = 'same',name = 'conv5_1'))\n",
    "    model.add(Conv2D(512,(3,3),activation='relu',dilation_rate= (2,2), padding = 'same',name = 'conv5_2'))\n",
    "    model.add(Conv2D(512,(3,3),activation='relu',dilation_rate= (2,2), padding = 'same',name = 'conv5_3'))\n",
    "    \n",
    "    \n",
    "    model.add(Conv2D(4096,(7,7),dilation_rate= (4,4), padding = \"same\", activation='relu', name = \"fc6\"))\n",
    "    model.add(Dropout(0.5))\n",
    "    model.add(Conv2D(4096,(1,1),activation='relu',padding = \"same\",name = \"fc7\"))\n",
    "    model.add(Dropout(0.5))\n",
    "    \n",
    "    model.add(Conv2D(8,(1,1),activation='linear',name = 'fc-final'))\n",
    "    \n",
    "    return model\n",
    "    \n",
    "    "
   ]
  },
  {
   "cell_type": "code",
   "execution_count": 24,
   "metadata": {
    "collapsed": true
   },
   "outputs": [],
   "source": [
    "model = get_frontend(512,512)"
   ]
  },
  {
   "cell_type": "code",
   "execution_count": 25,
   "metadata": {
    "collapsed": false
   },
   "outputs": [
    {
     "name": "stdout",
     "output_type": "stream",
     "text": [
      "_________________________________________________________________\n",
      "Layer (type)                 Output Shape              Param #   \n",
      "=================================================================\n",
      "conv1_1 (Conv2D)             (None, 512, 512, 64)      1792      \n",
      "_________________________________________________________________\n",
      "conv1_2 (Conv2D)             (None, 512, 512, 64)      36928     \n",
      "_________________________________________________________________\n",
      "pool_1 (MaxPooling2D)        (None, 256, 256, 64)      0         \n",
      "_________________________________________________________________\n",
      "conv2_1 (Conv2D)             (None, 256, 256, 128)     73856     \n",
      "_________________________________________________________________\n",
      "conv2_2 (Conv2D)             (None, 256, 256, 128)     147584    \n",
      "_________________________________________________________________\n",
      "pool_2 (MaxPooling2D)        (None, 128, 128, 128)     0         \n",
      "_________________________________________________________________\n",
      "conv3_1 (Conv2D)             (None, 128, 128, 256)     295168    \n",
      "_________________________________________________________________\n",
      "conv3_2 (Conv2D)             (None, 128, 128, 256)     590080    \n",
      "_________________________________________________________________\n",
      "conv3_3 (Conv2D)             (None, 128, 128, 256)     590080    \n",
      "_________________________________________________________________\n",
      "pool_3 (MaxPooling2D)        (None, 64, 64, 256)       0         \n",
      "_________________________________________________________________\n",
      "conv4_1 (Conv2D)             (None, 64, 64, 512)       1180160   \n",
      "_________________________________________________________________\n",
      "conv4_2 (Conv2D)             (None, 64, 64, 512)       2359808   \n",
      "_________________________________________________________________\n",
      "conv4_3 (Conv2D)             (None, 64, 64, 512)       2359808   \n",
      "_________________________________________________________________\n",
      "conv5_1 (Conv2D)             (None, 64, 64, 512)       2359808   \n",
      "_________________________________________________________________\n",
      "conv5_2 (Conv2D)             (None, 64, 64, 512)       2359808   \n",
      "_________________________________________________________________\n",
      "conv5_3 (Conv2D)             (None, 64, 64, 512)       2359808   \n",
      "_________________________________________________________________\n",
      "fc6 (Conv2D)                 (None, 64, 64, 4096)      102764544 \n",
      "_________________________________________________________________\n",
      "dropout_7 (Dropout)          (None, 64, 64, 4096)      0         \n",
      "_________________________________________________________________\n",
      "fc7 (Conv2D)                 (None, 64, 64, 4096)      16781312  \n",
      "_________________________________________________________________\n",
      "dropout_8 (Dropout)          (None, 64, 64, 4096)      0         \n",
      "_________________________________________________________________\n",
      "fc-final (Conv2D)            (None, 64, 64, 8)         32776     \n",
      "=================================================================\n",
      "Total params: 134,293,320.0\n",
      "Trainable params: 134,293,320.0\n",
      "Non-trainable params: 0.0\n",
      "_________________________________________________________________\n"
     ]
    }
   ],
   "source": [
    "model.summary()"
   ]
  },
  {
   "cell_type": "code",
   "execution_count": 26,
   "metadata": {
    "collapsed": true
   },
   "outputs": [],
   "source": [
    "def add_softmax(model) :\n",
    "    \n",
    "    _, curr_width, curr_height, curr_channels = model.layers[-1].output_shape\n",
    "    \n",
    "  #  model.add(Reshape((data_shape,8),input_shape = (496,64,8)))\n",
    "    model.add(Activation('softmax'))\n",
    "    return model"
   ]
  },
  {
   "cell_type": "code",
   "execution_count": 27,
   "metadata": {
    "collapsed": true
   },
   "outputs": [],
   "source": [
    "model = get_frontend(512,512)\n",
    "model = add_softmax(model)"
   ]
  },
  {
   "cell_type": "code",
   "execution_count": 28,
   "metadata": {
    "collapsed": false
   },
   "outputs": [
    {
     "name": "stdout",
     "output_type": "stream",
     "text": [
      "_________________________________________________________________\n",
      "Layer (type)                 Output Shape              Param #   \n",
      "=================================================================\n",
      "conv1_1 (Conv2D)             (None, 512, 512, 64)      1792      \n",
      "_________________________________________________________________\n",
      "conv1_2 (Conv2D)             (None, 512, 512, 64)      36928     \n",
      "_________________________________________________________________\n",
      "pool_1 (MaxPooling2D)        (None, 256, 256, 64)      0         \n",
      "_________________________________________________________________\n",
      "conv2_1 (Conv2D)             (None, 256, 256, 128)     73856     \n",
      "_________________________________________________________________\n",
      "conv2_2 (Conv2D)             (None, 256, 256, 128)     147584    \n",
      "_________________________________________________________________\n",
      "pool_2 (MaxPooling2D)        (None, 128, 128, 128)     0         \n",
      "_________________________________________________________________\n",
      "conv3_1 (Conv2D)             (None, 128, 128, 256)     295168    \n",
      "_________________________________________________________________\n",
      "conv3_2 (Conv2D)             (None, 128, 128, 256)     590080    \n",
      "_________________________________________________________________\n",
      "conv3_3 (Conv2D)             (None, 128, 128, 256)     590080    \n",
      "_________________________________________________________________\n",
      "pool_3 (MaxPooling2D)        (None, 64, 64, 256)       0         \n",
      "_________________________________________________________________\n",
      "conv4_1 (Conv2D)             (None, 64, 64, 512)       1180160   \n",
      "_________________________________________________________________\n",
      "conv4_2 (Conv2D)             (None, 64, 64, 512)       2359808   \n",
      "_________________________________________________________________\n",
      "conv4_3 (Conv2D)             (None, 64, 64, 512)       2359808   \n",
      "_________________________________________________________________\n",
      "conv5_1 (Conv2D)             (None, 64, 64, 512)       2359808   \n",
      "_________________________________________________________________\n",
      "conv5_2 (Conv2D)             (None, 64, 64, 512)       2359808   \n",
      "_________________________________________________________________\n",
      "conv5_3 (Conv2D)             (None, 64, 64, 512)       2359808   \n",
      "_________________________________________________________________\n",
      "fc6 (Conv2D)                 (None, 64, 64, 4096)      102764544 \n",
      "_________________________________________________________________\n",
      "dropout_9 (Dropout)          (None, 64, 64, 4096)      0         \n",
      "_________________________________________________________________\n",
      "fc7 (Conv2D)                 (None, 64, 64, 4096)      16781312  \n",
      "_________________________________________________________________\n",
      "dropout_10 (Dropout)         (None, 64, 64, 4096)      0         \n",
      "_________________________________________________________________\n",
      "fc-final (Conv2D)            (None, 64, 64, 8)         32776     \n",
      "_________________________________________________________________\n",
      "activation_2 (Activation)    (None, 64, 64, 8)         0         \n",
      "=================================================================\n",
      "Total params: 134,293,320.0\n",
      "Trainable params: 134,293,320.0\n",
      "Non-trainable params: 0.0\n",
      "_________________________________________________________________\n"
     ]
    }
   ],
   "source": [
    "model.summary()"
   ]
  },
  {
   "cell_type": "code",
   "execution_count": 71,
   "metadata": {
    "collapsed": true
   },
   "outputs": [],
   "source": [
    "def add_context(model,no_of_classes) :\n",
    "    \n",
    "    model.add(Conv2D(no_of_classes*2,(3,3),padding = \"same\",activation = 'relu', name = \"ct_conv1_1\"))\n",
    "    model.add(Conv2D(no_of_classes*2,(3,3),padding = \"same\",activation = 'relu', name = \"ct_conv1_2\"))\n",
    "\n",
    "    model.add(Conv2D(no_of_classes*4,(3,3),padding = \"same\",dilation_rate = (2,2),activation = 'relu', name = \"ct_conv2_1\"))\n",
    "    model.add(Conv2D(no_of_classes*8,(3,3),padding = \"same\",dilation_rate = (4,4),activation = 'relu', name = \"ct_conv3_1\"))\n",
    "    model.add(Conv2D(no_of_classes*16,(3,3),padding = 'same', dilation_rate = (8,8),activation = 'relu', name = \"ct_conv4_1\"))\n",
    "    model.add(Conv2D(no_of_classes*32,(3,3), padding = 'same',dilation_rate = (16,16),activation = 'relu', name = \"ct_conv5_1\"))\n",
    "    \n",
    "    model.add(Conv2D(no_of_classes*32,(3,3),padding = 'same', activation = 'relu', name = \"ct_fc1\"))\n",
    "    \n",
    "    model.add(Deconvolution2D(no_of_classes, kernel_size = (3,3), strides = (2,2), activation = \"relu\", name = \"ct_deconv_1\", padding = \"same\"))\n",
    "    model.add(Deconvolution2D(no_of_classes, kernel_size = (3,3), strides = (2,2),activation = \"relu\", name = \"ct_deconv_2\", padding = \"same\"))\n",
    "    model.add(Deconvolution2D(no_of_classes, kernel_size = (3,3), strides = (2,2),activation = \"relu\", name = \"ct_deconv_3\", padding = \"same\"))\n",
    "    model.add(Conv2D(no_of_classes,(1,1),activation = 'relu', name = \"ct_final\"))\n",
    "    return model"
   ]
  },
  {
   "cell_type": "code",
   "execution_count": 72,
   "metadata": {
    "collapsed": false
   },
   "outputs": [],
   "source": [
    "model = get_frontend(496,64)\n",
    "model = add_context(model,8)\n",
    "model = add_softmax(model)"
   ]
  },
  {
   "cell_type": "code",
   "execution_count": 73,
   "metadata": {
    "collapsed": false
   },
   "outputs": [
    {
     "name": "stdout",
     "output_type": "stream",
     "text": [
      "_________________________________________________________________\n",
      "Layer (type)                 Output Shape              Param #   \n",
      "=================================================================\n",
      "conv1_1 (Conv2D)             (None, 496, 64, 64)       1792      \n",
      "_________________________________________________________________\n",
      "conv1_2 (Conv2D)             (None, 496, 64, 64)       36928     \n",
      "_________________________________________________________________\n",
      "pool_1 (MaxPooling2D)        (None, 248, 32, 64)       0         \n",
      "_________________________________________________________________\n",
      "conv2_1 (Conv2D)             (None, 248, 32, 128)      73856     \n",
      "_________________________________________________________________\n",
      "conv2_2 (Conv2D)             (None, 248, 32, 128)      147584    \n",
      "_________________________________________________________________\n",
      "pool_2 (MaxPooling2D)        (None, 124, 16, 128)      0         \n",
      "_________________________________________________________________\n",
      "conv3_1 (Conv2D)             (None, 124, 16, 256)      295168    \n",
      "_________________________________________________________________\n",
      "conv3_2 (Conv2D)             (None, 124, 16, 256)      590080    \n",
      "_________________________________________________________________\n",
      "conv3_3 (Conv2D)             (None, 124, 16, 256)      590080    \n",
      "_________________________________________________________________\n",
      "pool_3 (MaxPooling2D)        (None, 62, 8, 256)        0         \n",
      "_________________________________________________________________\n",
      "conv4_1 (Conv2D)             (None, 62, 8, 512)        1180160   \n",
      "_________________________________________________________________\n",
      "conv4_2 (Conv2D)             (None, 62, 8, 512)        2359808   \n",
      "_________________________________________________________________\n",
      "conv4_3 (Conv2D)             (None, 62, 8, 512)        2359808   \n",
      "_________________________________________________________________\n",
      "conv5_1 (Conv2D)             (None, 62, 8, 512)        2359808   \n",
      "_________________________________________________________________\n",
      "conv5_2 (Conv2D)             (None, 62, 8, 512)        2359808   \n",
      "_________________________________________________________________\n",
      "conv5_3 (Conv2D)             (None, 62, 8, 512)        2359808   \n",
      "_________________________________________________________________\n",
      "fc6 (Conv2D)                 (None, 62, 8, 4096)       102764544 \n",
      "_________________________________________________________________\n",
      "dropout_31 (Dropout)         (None, 62, 8, 4096)       0         \n",
      "_________________________________________________________________\n",
      "fc7 (Conv2D)                 (None, 62, 8, 4096)       16781312  \n",
      "_________________________________________________________________\n",
      "dropout_32 (Dropout)         (None, 62, 8, 4096)       0         \n",
      "_________________________________________________________________\n",
      "fc-final (Conv2D)            (None, 62, 8, 8)          32776     \n",
      "_________________________________________________________________\n",
      "ct_conv1_1 (Conv2D)          (None, 62, 8, 16)         1168      \n",
      "_________________________________________________________________\n",
      "ct_conv1_2 (Conv2D)          (None, 62, 8, 16)         2320      \n",
      "_________________________________________________________________\n",
      "ct_conv2_1 (Conv2D)          (None, 62, 8, 32)         4640      \n",
      "_________________________________________________________________\n",
      "ct_conv3_1 (Conv2D)          (None, 62, 8, 64)         18496     \n",
      "_________________________________________________________________\n",
      "ct_conv4_1 (Conv2D)          (None, 62, 8, 128)        73856     \n",
      "_________________________________________________________________\n",
      "ct_conv5_1 (Conv2D)          (None, 62, 8, 256)        295168    \n",
      "_________________________________________________________________\n",
      "ct_fc1 (Conv2D)              (None, 62, 8, 256)        590080    \n",
      "_________________________________________________________________\n",
      "ct_deconv_1 (Conv2DTranspose (None, 124, 16, 8)        18440     \n",
      "_________________________________________________________________\n",
      "ct_deconv_2 (Conv2DTranspose (None, 248, 32, 8)        584       \n",
      "_________________________________________________________________\n",
      "ct_deconv_3 (Conv2DTranspose (None, 496, 64, 8)        584       \n",
      "_________________________________________________________________\n",
      "ct_final (Conv2D)            (None, 496, 64, 8)        72        \n",
      "_________________________________________________________________\n",
      "activation_13 (Activation)   (None, 496, 64, 8)        0         \n",
      "=================================================================\n",
      "Total params: 135,298,728.0\n",
      "Trainable params: 135,298,728.0\n",
      "Non-trainable params: 0.0\n",
      "_________________________________________________________________\n"
     ]
    }
   ],
   "source": [
    "model.summary()"
   ]
  },
  {
   "cell_type": "code",
   "execution_count": 18,
   "metadata": {
    "collapsed": true
   },
   "outputs": [],
   "source": [
    "from keras.utils import plot_model\n",
    "plot_model(model, to_file='model.png',show_shapes= True)\n"
   ]
  },
  {
   "cell_type": "code",
   "execution_count": 44,
   "metadata": {
    "collapsed": true
   },
   "outputs": [],
   "source": [
    "weights_data = np.load(\"/home/iplab/Desktop/MajorProjectRelayNet/Multi-Scale-Context-Aggregation-by-Dilated-Convolutions/dilation8_pascal_voc.npy\", encoding='latin1').item()"
   ]
  },
  {
   "cell_type": "code",
   "execution_count": 45,
   "metadata": {
    "collapsed": false
   },
   "outputs": [
    {
     "ename": "KeyboardInterrupt",
     "evalue": "",
     "output_type": "error",
     "traceback": [
      "\u001b[1;31m---------------------------------------------------------------------------\u001b[0m",
      "\u001b[1;31mKeyboardInterrupt\u001b[0m                         Traceback (most recent call last)",
      "\u001b[1;32m<ipython-input-45-0e5a7aadd474>\u001b[0m in \u001b[0;36m<module>\u001b[1;34m()\u001b[0m\n\u001b[0;32m      2\u001b[0m     \u001b[1;32mif\u001b[0m \u001b[0mlayer\u001b[0m\u001b[1;33m.\u001b[0m\u001b[0mname\u001b[0m \u001b[1;32min\u001b[0m \u001b[0mweights_data\u001b[0m\u001b[1;33m.\u001b[0m\u001b[0mkeys\u001b[0m\u001b[1;33m(\u001b[0m\u001b[1;33m)\u001b[0m\u001b[1;33m:\u001b[0m\u001b[1;33m\u001b[0m\u001b[0m\n\u001b[0;32m      3\u001b[0m         \u001b[0mlayer_weights\u001b[0m \u001b[1;33m=\u001b[0m \u001b[0mweights_data\u001b[0m\u001b[1;33m[\u001b[0m\u001b[0mlayer\u001b[0m\u001b[1;33m.\u001b[0m\u001b[0mname\u001b[0m\u001b[1;33m]\u001b[0m\u001b[1;33m\u001b[0m\u001b[0m\n\u001b[1;32m----> 4\u001b[1;33m         \u001b[0mlayer\u001b[0m\u001b[1;33m.\u001b[0m\u001b[0mset_weights\u001b[0m\u001b[1;33m(\u001b[0m\u001b[1;33m(\u001b[0m\u001b[0mlayer_weights\u001b[0m\u001b[1;33m[\u001b[0m\u001b[1;34m'weights'\u001b[0m\u001b[1;33m]\u001b[0m\u001b[1;33m,\u001b[0m\u001b[0mlayer_weights\u001b[0m\u001b[1;33m[\u001b[0m\u001b[1;34m'biases'\u001b[0m\u001b[1;33m]\u001b[0m\u001b[1;33m)\u001b[0m\u001b[1;33m)\u001b[0m\u001b[1;33m\u001b[0m\u001b[0m\n\u001b[0m\u001b[0;32m      5\u001b[0m     \u001b[1;32melse\u001b[0m \u001b[1;33m:\u001b[0m\u001b[1;33m\u001b[0m\u001b[0m\n\u001b[0;32m      6\u001b[0m         \u001b[1;32mprint\u001b[0m\u001b[1;33m(\u001b[0m\u001b[0mlayer\u001b[0m\u001b[1;33m.\u001b[0m\u001b[0mname\u001b[0m\u001b[1;33m)\u001b[0m\u001b[1;33m\u001b[0m\u001b[0m\n",
      "\u001b[1;32m/home/iplab/anaconda2/lib/python2.7/site-packages/keras/engine/topology.pyc\u001b[0m in \u001b[0;36mset_weights\u001b[1;34m(self, weights)\u001b[0m\n\u001b[0;32m   1146\u001b[0m             \u001b[1;32mreturn\u001b[0m\u001b[1;33m\u001b[0m\u001b[0m\n\u001b[0;32m   1147\u001b[0m         \u001b[0mweight_value_tuples\u001b[0m \u001b[1;33m=\u001b[0m \u001b[1;33m[\u001b[0m\u001b[1;33m]\u001b[0m\u001b[1;33m\u001b[0m\u001b[0m\n\u001b[1;32m-> 1148\u001b[1;33m         \u001b[0mparam_values\u001b[0m \u001b[1;33m=\u001b[0m \u001b[0mK\u001b[0m\u001b[1;33m.\u001b[0m\u001b[0mbatch_get_value\u001b[0m\u001b[1;33m(\u001b[0m\u001b[0mparams\u001b[0m\u001b[1;33m)\u001b[0m\u001b[1;33m\u001b[0m\u001b[0m\n\u001b[0m\u001b[0;32m   1149\u001b[0m         \u001b[1;32mfor\u001b[0m \u001b[0mpv\u001b[0m\u001b[1;33m,\u001b[0m \u001b[0mp\u001b[0m\u001b[1;33m,\u001b[0m \u001b[0mw\u001b[0m \u001b[1;32min\u001b[0m \u001b[0mzip\u001b[0m\u001b[1;33m(\u001b[0m\u001b[0mparam_values\u001b[0m\u001b[1;33m,\u001b[0m \u001b[0mparams\u001b[0m\u001b[1;33m,\u001b[0m \u001b[0mweights\u001b[0m\u001b[1;33m)\u001b[0m\u001b[1;33m:\u001b[0m\u001b[1;33m\u001b[0m\u001b[0m\n\u001b[0;32m   1150\u001b[0m             \u001b[1;32mif\u001b[0m \u001b[0mpv\u001b[0m\u001b[1;33m.\u001b[0m\u001b[0mshape\u001b[0m \u001b[1;33m!=\u001b[0m \u001b[0mw\u001b[0m\u001b[1;33m.\u001b[0m\u001b[0mshape\u001b[0m\u001b[1;33m:\u001b[0m\u001b[1;33m\u001b[0m\u001b[0m\n",
      "\u001b[1;32m/home/iplab/anaconda2/lib/python2.7/site-packages/keras/backend/tensorflow_backend.pyc\u001b[0m in \u001b[0;36mbatch_get_value\u001b[1;34m(ops)\u001b[0m\n\u001b[0;32m   1945\u001b[0m     \"\"\"\n\u001b[0;32m   1946\u001b[0m     \u001b[1;32mif\u001b[0m \u001b[0mops\u001b[0m\u001b[1;33m:\u001b[0m\u001b[1;33m\u001b[0m\u001b[0m\n\u001b[1;32m-> 1947\u001b[1;33m         \u001b[1;32mreturn\u001b[0m \u001b[0mget_session\u001b[0m\u001b[1;33m(\u001b[0m\u001b[1;33m)\u001b[0m\u001b[1;33m.\u001b[0m\u001b[0mrun\u001b[0m\u001b[1;33m(\u001b[0m\u001b[0mops\u001b[0m\u001b[1;33m)\u001b[0m\u001b[1;33m\u001b[0m\u001b[0m\n\u001b[0m\u001b[0;32m   1948\u001b[0m     \u001b[1;32melse\u001b[0m\u001b[1;33m:\u001b[0m\u001b[1;33m\u001b[0m\u001b[0m\n\u001b[0;32m   1949\u001b[0m         \u001b[1;32mreturn\u001b[0m \u001b[1;33m[\u001b[0m\u001b[1;33m]\u001b[0m\u001b[1;33m\u001b[0m\u001b[0m\n",
      "\u001b[1;32m/home/iplab/anaconda2/lib/python2.7/site-packages/keras/backend/tensorflow_backend.pyc\u001b[0m in \u001b[0;36mget_session\u001b[1;34m()\u001b[0m\n\u001b[0;32m    151\u001b[0m         \u001b[0msession\u001b[0m \u001b[1;33m=\u001b[0m \u001b[0m_SESSION\u001b[0m\u001b[1;33m\u001b[0m\u001b[0m\n\u001b[0;32m    152\u001b[0m     \u001b[1;32mif\u001b[0m \u001b[1;32mnot\u001b[0m \u001b[0m_MANUAL_VAR_INIT\u001b[0m\u001b[1;33m:\u001b[0m\u001b[1;33m\u001b[0m\u001b[0m\n\u001b[1;32m--> 153\u001b[1;33m         \u001b[0m_initialize_variables\u001b[0m\u001b[1;33m(\u001b[0m\u001b[1;33m)\u001b[0m\u001b[1;33m\u001b[0m\u001b[0m\n\u001b[0m\u001b[0;32m    154\u001b[0m     \u001b[1;32mreturn\u001b[0m \u001b[0msession\u001b[0m\u001b[1;33m\u001b[0m\u001b[0m\n\u001b[0;32m    155\u001b[0m \u001b[1;33m\u001b[0m\u001b[0m\n",
      "\u001b[1;32m/home/iplab/anaconda2/lib/python2.7/site-packages/keras/backend/tensorflow_backend.pyc\u001b[0m in \u001b[0;36m_initialize_variables\u001b[1;34m()\u001b[0m\n\u001b[0;32m    304\u001b[0m     \u001b[1;32mif\u001b[0m \u001b[0muninitialized_variables\u001b[0m\u001b[1;33m:\u001b[0m\u001b[1;33m\u001b[0m\u001b[0m\n\u001b[0;32m    305\u001b[0m         \u001b[0msess\u001b[0m \u001b[1;33m=\u001b[0m \u001b[0mget_session\u001b[0m\u001b[1;33m(\u001b[0m\u001b[1;33m)\u001b[0m\u001b[1;33m\u001b[0m\u001b[0m\n\u001b[1;32m--> 306\u001b[1;33m         \u001b[0msess\u001b[0m\u001b[1;33m.\u001b[0m\u001b[0mrun\u001b[0m\u001b[1;33m(\u001b[0m\u001b[0mtf\u001b[0m\u001b[1;33m.\u001b[0m\u001b[0mvariables_initializer\u001b[0m\u001b[1;33m(\u001b[0m\u001b[0muninitialized_variables\u001b[0m\u001b[1;33m)\u001b[0m\u001b[1;33m)\u001b[0m\u001b[1;33m\u001b[0m\u001b[0m\n\u001b[0m\u001b[0;32m    307\u001b[0m \u001b[1;33m\u001b[0m\u001b[0m\n\u001b[0;32m    308\u001b[0m \u001b[1;33m\u001b[0m\u001b[0m\n",
      "\u001b[1;32m/home/iplab/anaconda2/lib/python2.7/site-packages/tensorflow/python/client/session.pyc\u001b[0m in \u001b[0;36mrun\u001b[1;34m(self, fetches, feed_dict, options, run_metadata)\u001b[0m\n\u001b[0;32m    765\u001b[0m     \u001b[1;32mtry\u001b[0m\u001b[1;33m:\u001b[0m\u001b[1;33m\u001b[0m\u001b[0m\n\u001b[0;32m    766\u001b[0m       result = self._run(None, fetches, feed_dict, options_ptr,\n\u001b[1;32m--> 767\u001b[1;33m                          run_metadata_ptr)\n\u001b[0m\u001b[0;32m    768\u001b[0m       \u001b[1;32mif\u001b[0m \u001b[0mrun_metadata\u001b[0m\u001b[1;33m:\u001b[0m\u001b[1;33m\u001b[0m\u001b[0m\n\u001b[0;32m    769\u001b[0m         \u001b[0mproto_data\u001b[0m \u001b[1;33m=\u001b[0m \u001b[0mtf_session\u001b[0m\u001b[1;33m.\u001b[0m\u001b[0mTF_GetBuffer\u001b[0m\u001b[1;33m(\u001b[0m\u001b[0mrun_metadata_ptr\u001b[0m\u001b[1;33m)\u001b[0m\u001b[1;33m\u001b[0m\u001b[0m\n",
      "\u001b[1;32m/home/iplab/anaconda2/lib/python2.7/site-packages/tensorflow/python/client/session.pyc\u001b[0m in \u001b[0;36m_run\u001b[1;34m(self, handle, fetches, feed_dict, options, run_metadata)\u001b[0m\n\u001b[0;32m    963\u001b[0m     \u001b[1;32mif\u001b[0m \u001b[0mfinal_fetches\u001b[0m \u001b[1;32mor\u001b[0m \u001b[0mfinal_targets\u001b[0m\u001b[1;33m:\u001b[0m\u001b[1;33m\u001b[0m\u001b[0m\n\u001b[0;32m    964\u001b[0m       results = self._do_run(handle, final_targets, final_fetches,\n\u001b[1;32m--> 965\u001b[1;33m                              feed_dict_string, options, run_metadata)\n\u001b[0m\u001b[0;32m    966\u001b[0m     \u001b[1;32melse\u001b[0m\u001b[1;33m:\u001b[0m\u001b[1;33m\u001b[0m\u001b[0m\n\u001b[0;32m    967\u001b[0m       \u001b[0mresults\u001b[0m \u001b[1;33m=\u001b[0m \u001b[1;33m[\u001b[0m\u001b[1;33m]\u001b[0m\u001b[1;33m\u001b[0m\u001b[0m\n",
      "\u001b[1;32m/home/iplab/anaconda2/lib/python2.7/site-packages/tensorflow/python/client/session.pyc\u001b[0m in \u001b[0;36m_do_run\u001b[1;34m(self, handle, target_list, fetch_list, feed_dict, options, run_metadata)\u001b[0m\n\u001b[0;32m   1013\u001b[0m     \u001b[1;32mif\u001b[0m \u001b[0mhandle\u001b[0m \u001b[1;32mis\u001b[0m \u001b[0mNone\u001b[0m\u001b[1;33m:\u001b[0m\u001b[1;33m\u001b[0m\u001b[0m\n\u001b[0;32m   1014\u001b[0m       return self._do_call(_run_fn, self._session, feed_dict, fetch_list,\n\u001b[1;32m-> 1015\u001b[1;33m                            target_list, options, run_metadata)\n\u001b[0m\u001b[0;32m   1016\u001b[0m     \u001b[1;32melse\u001b[0m\u001b[1;33m:\u001b[0m\u001b[1;33m\u001b[0m\u001b[0m\n\u001b[0;32m   1017\u001b[0m       return self._do_call(_prun_fn, self._session, handle, feed_dict,\n",
      "\u001b[1;32m/home/iplab/anaconda2/lib/python2.7/site-packages/tensorflow/python/client/session.pyc\u001b[0m in \u001b[0;36m_do_call\u001b[1;34m(self, fn, *args)\u001b[0m\n\u001b[0;32m   1020\u001b[0m   \u001b[1;32mdef\u001b[0m \u001b[0m_do_call\u001b[0m\u001b[1;33m(\u001b[0m\u001b[0mself\u001b[0m\u001b[1;33m,\u001b[0m \u001b[0mfn\u001b[0m\u001b[1;33m,\u001b[0m \u001b[1;33m*\u001b[0m\u001b[0margs\u001b[0m\u001b[1;33m)\u001b[0m\u001b[1;33m:\u001b[0m\u001b[1;33m\u001b[0m\u001b[0m\n\u001b[0;32m   1021\u001b[0m     \u001b[1;32mtry\u001b[0m\u001b[1;33m:\u001b[0m\u001b[1;33m\u001b[0m\u001b[0m\n\u001b[1;32m-> 1022\u001b[1;33m       \u001b[1;32mreturn\u001b[0m \u001b[0mfn\u001b[0m\u001b[1;33m(\u001b[0m\u001b[1;33m*\u001b[0m\u001b[0margs\u001b[0m\u001b[1;33m)\u001b[0m\u001b[1;33m\u001b[0m\u001b[0m\n\u001b[0m\u001b[0;32m   1023\u001b[0m     \u001b[1;32mexcept\u001b[0m \u001b[0merrors\u001b[0m\u001b[1;33m.\u001b[0m\u001b[0mOpError\u001b[0m \u001b[1;32mas\u001b[0m \u001b[0me\u001b[0m\u001b[1;33m:\u001b[0m\u001b[1;33m\u001b[0m\u001b[0m\n\u001b[0;32m   1024\u001b[0m       \u001b[0mmessage\u001b[0m \u001b[1;33m=\u001b[0m \u001b[0mcompat\u001b[0m\u001b[1;33m.\u001b[0m\u001b[0mas_text\u001b[0m\u001b[1;33m(\u001b[0m\u001b[0me\u001b[0m\u001b[1;33m.\u001b[0m\u001b[0mmessage\u001b[0m\u001b[1;33m)\u001b[0m\u001b[1;33m\u001b[0m\u001b[0m\n",
      "\u001b[1;32m/home/iplab/anaconda2/lib/python2.7/site-packages/tensorflow/python/client/session.pyc\u001b[0m in \u001b[0;36m_run_fn\u001b[1;34m(session, feed_dict, fetch_list, target_list, options, run_metadata)\u001b[0m\n\u001b[0;32m   1002\u001b[0m         return tf_session.TF_Run(session, options,\n\u001b[0;32m   1003\u001b[0m                                  \u001b[0mfeed_dict\u001b[0m\u001b[1;33m,\u001b[0m \u001b[0mfetch_list\u001b[0m\u001b[1;33m,\u001b[0m \u001b[0mtarget_list\u001b[0m\u001b[1;33m,\u001b[0m\u001b[1;33m\u001b[0m\u001b[0m\n\u001b[1;32m-> 1004\u001b[1;33m                                  status, run_metadata)\n\u001b[0m\u001b[0;32m   1005\u001b[0m \u001b[1;33m\u001b[0m\u001b[0m\n\u001b[0;32m   1006\u001b[0m     \u001b[1;32mdef\u001b[0m \u001b[0m_prun_fn\u001b[0m\u001b[1;33m(\u001b[0m\u001b[0msession\u001b[0m\u001b[1;33m,\u001b[0m \u001b[0mhandle\u001b[0m\u001b[1;33m,\u001b[0m \u001b[0mfeed_dict\u001b[0m\u001b[1;33m,\u001b[0m \u001b[0mfetch_list\u001b[0m\u001b[1;33m)\u001b[0m\u001b[1;33m:\u001b[0m\u001b[1;33m\u001b[0m\u001b[0m\n",
      "\u001b[1;31mKeyboardInterrupt\u001b[0m: "
     ]
    }
   ],
   "source": [
    "for layer in model.layers:\n",
    "    if layer.name in weights_data.keys():\n",
    "        layer_weights = weights_data[layer.name]\n",
    "        layer.set_weights((layer_weights['weights'],layer_weights['biases']))\n",
    "    else :\n",
    "        print(layer.name)"
   ]
  },
  {
   "cell_type": "code",
   "execution_count": null,
   "metadata": {
    "collapsed": true
   },
   "outputs": [],
   "source": [
    "weights = np.load('weighted_cropped_images.npy')"
   ]
  },
  {
   "cell_type": "code",
   "execution_count": null,
   "metadata": {
    "collapsed": true
   },
   "outputs": [],
   "source": []
  },
  {
   "cell_type": "code",
   "execution_count": null,
   "metadata": {
    "collapsed": true
   },
   "outputs": [],
   "source": []
  },
  {
   "cell_type": "code",
   "execution_count": null,
   "metadata": {
    "collapsed": true
   },
   "outputs": [],
   "source": []
  },
  {
   "cell_type": "code",
   "execution_count": null,
   "metadata": {
    "collapsed": true
   },
   "outputs": [],
   "source": []
  },
  {
   "cell_type": "code",
   "execution_count": null,
   "metadata": {
    "collapsed": true
   },
   "outputs": [],
   "source": []
  },
  {
   "cell_type": "code",
   "execution_count": null,
   "metadata": {
    "collapsed": true
   },
   "outputs": [],
   "source": []
  },
  {
   "cell_type": "code",
   "execution_count": 45,
   "metadata": {
    "collapsed": true
   },
   "outputs": [],
   "source": [
    "from PIL import Image"
   ]
  },
  {
   "cell_type": "code",
   "execution_count": 84,
   "metadata": {
    "collapsed": true
   },
   "outputs": [],
   "source": [
    "image_rgb = np.array(Image.open(\"/home/guru/Desktop/Webp.net-resizeimage.jpg\")).astype(np.float32)"
   ]
  },
  {
   "cell_type": "code",
   "execution_count": 85,
   "metadata": {
    "collapsed": false
   },
   "outputs": [
    {
     "data": {
      "text/plain": [
       "(512, 512, 3)"
      ]
     },
     "execution_count": 85,
     "metadata": {},
     "output_type": "execute_result"
    }
   ],
   "source": [
    "image_rgb.shape"
   ]
  },
  {
   "cell_type": "code",
   "execution_count": 86,
   "metadata": {
    "collapsed": true
   },
   "outputs": [],
   "source": [
    "mean = [102.93, 111.36, 116.52]"
   ]
  },
  {
   "cell_type": "code",
   "execution_count": 87,
   "metadata": {
    "collapsed": true
   },
   "outputs": [],
   "source": [
    "image = image_rgb[:, :, ::-1] - mean"
   ]
  },
  {
   "cell_type": "code",
   "execution_count": 88,
   "metadata": {
    "collapsed": false
   },
   "outputs": [
    {
     "data": {
      "text/plain": [
       "(512, 512, 3)"
      ]
     },
     "execution_count": 88,
     "metadata": {},
     "output_type": "execute_result"
    }
   ],
   "source": [
    "image.shape"
   ]
  },
  {
   "cell_type": "code",
   "execution_count": 89,
   "metadata": {
    "collapsed": true
   },
   "outputs": [],
   "source": [
    " image_size = image.shape"
   ]
  },
  {
   "cell_type": "code",
   "execution_count": 90,
   "metadata": {
    "collapsed": true
   },
   "outputs": [],
   "source": [
    "input_width, input_height = 512, 512\n",
    "label_margin = 186\n",
    "net_in = np.zeros((1, input_height, input_width, 3), dtype=np.float32)"
   ]
  },
  {
   "cell_type": "code",
   "execution_count": 54,
   "metadata": {
    "collapsed": true
   },
   "outputs": [],
   "source": [
    "output_height = input_height - 2 * label_margin\n",
    "output_width = input_width - 2 * label_margin"
   ]
  },
  {
   "cell_type": "code",
   "execution_count": 91,
   "metadata": {
    "collapsed": true
   },
   "outputs": [],
   "source": [
    "mage = np.pad(image,\n",
    "                   ((label_margin, label_margin),\n",
    "                    (label_margin, label_margin),\n",
    "                    (0, 0)), 'reflect')"
   ]
  },
  {
   "cell_type": "code",
   "execution_count": 92,
   "metadata": {
    "collapsed": true
   },
   "outputs": [],
   "source": [
    "margins_h = (0, input_height - image.shape[0])\n",
    "margins_w = (0, input_width - image.shape[1])\n",
    "image = np.pad(image,(margins_h,margins_w,(0, 0)), 'reflect')"
   ]
  },
  {
   "cell_type": "code",
   "execution_count": 119,
   "metadata": {
    "collapsed": true
   },
   "outputs": [],
   "source": [
    "net_in[0] = image\n",
    "prob = model.predict(net_in)[0]"
   ]
  },
  {
   "cell_type": "code",
   "execution_count": 137,
   "metadata": {
    "collapsed": false
   },
   "outputs": [
    {
     "data": {
      "text/plain": [
       "(64, 64, 21)"
      ]
     },
     "execution_count": 137,
     "metadata": {},
     "output_type": "execute_result"
    }
   ],
   "source": [
    "prob.shape"
   ]
  },
  {
   "cell_type": "code",
   "execution_count": 140,
   "metadata": {
    "collapsed": true
   },
   "outputs": [],
   "source": [
    "prob = np.pad(prob,((1,1),(1,1),(0,0)),'reflect')"
   ]
  },
  {
   "cell_type": "code",
   "execution_count": 141,
   "metadata": {
    "collapsed": false
   },
   "outputs": [
    {
     "data": {
      "text/plain": [
       "(66, 66, 21)"
      ]
     },
     "execution_count": 141,
     "metadata": {},
     "output_type": "execute_result"
    }
   ],
   "source": [
    "prob.shape"
   ]
  },
  {
   "cell_type": "code",
   "execution_count": 145,
   "metadata": {
    "collapsed": true
   },
   "outputs": [],
   "source": [
    "def interp_map(prob, zoom, width, height):\n",
    "    zoom_prob = np.zeros((height, width, prob.shape[2]), dtype=np.float32)\n",
    "    for c in range(prob.shape[2]):\n",
    "        for h in range(height):\n",
    "            for w in range(width):\n",
    "                r0 = h // zoom\n",
    "                \n",
    "                r1 = r0 + 1\n",
    "                c0 = w // zoom\n",
    "                c1 = c0 + 1\n",
    "                rt = float(h) / zoom - r0\n",
    "                ct = float(w) / zoom - c0\n",
    "                #print(c0)\n",
    "                v0 = rt * prob[r1, c0, c] + (1 - rt) * prob[r0, c0, c]\n",
    "                v1 = rt * prob[r1, c1, c] + (1 - rt) * prob[r0, c1, c]\n",
    "                zoom_prob[h, w, c] = (1 - ct) * v0 + ct * v1\n",
    "    return zoom_prob"
   ]
  },
  {
   "cell_type": "code",
   "execution_count": 146,
   "metadata": {
    "collapsed": true
   },
   "outputs": [],
   "source": [
    "prob = interp_map(prob,8,512,512)"
   ]
  },
  {
   "cell_type": "code",
   "execution_count": 147,
   "metadata": {
    "collapsed": true
   },
   "outputs": [],
   "source": [
    "prediction = np.argmax(prob, axis=2)\n"
   ]
  },
  {
   "cell_type": "code",
   "execution_count": null,
   "metadata": {
    "collapsed": true
   },
   "outputs": [],
   "source": []
  },
  {
   "cell_type": "code",
   "execution_count": 148,
   "metadata": {
    "collapsed": false
   },
   "outputs": [
    {
     "data": {
      "text/plain": [
       "(512, 512)"
      ]
     },
     "execution_count": 148,
     "metadata": {},
     "output_type": "execute_result"
    }
   ],
   "source": [
    "prediction.shape"
   ]
  },
  {
   "cell_type": "code",
   "execution_count": 149,
   "metadata": {
    "collapsed": false
   },
   "outputs": [
    {
     "data": {
      "text/plain": [
       "<matplotlib.image.AxesImage at 0x7f8eb84aa0d0>"
      ]
     },
     "execution_count": 149,
     "metadata": {},
     "output_type": "execute_result"
    },
    {
     "data": {
      "image/png": "[encoded data removed]",
      "text/plain": [
       "<matplotlib.figure.Figure at 0x7f8eb8516990>"
      ]
     },
     "metadata": {},
     "output_type": "display_data"
    }
   ],
   "source": [
    "plt.imshow(prediction)"
   ]
  },
  {
   "cell_type": "code",
   "execution_count": null,
   "metadata": {
    "collapsed": true
   },
   "outputs": [],
   "source": []
  }
 ],
 "metadata": {
  "kernelspec": {
   "display_name": "Python [Root]",
   "language": "python",
   "name": "Python [Root]"
  },
  "language_info": {
   "codemirror_mode": {
    "name": "ipython",
    "version": 2
   },
   "file_extension": ".py",
   "mimetype": "text/x-python",
   "name": "python",
   "nbconvert_exporter": "python",
   "pygments_lexer": "ipython2",
   "version": "2.7.12"
  }
 },
 "nbformat": 4,
 "nbformat_minor": 2
}
