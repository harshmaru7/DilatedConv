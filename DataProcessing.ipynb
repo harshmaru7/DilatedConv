{
 "cells": [
  {
   "cell_type": "code",
   "execution_count": 28,
   "metadata": {
    "collapsed": true
   },
   "outputs": [],
   "source": [
    "import scipy.io as scio\n",
    "import numpy as np    \n",
    "import matplotlib.pyplot as plt\n",
    "from scipy.misc import imsave"
   ]
  },
  {
   "cell_type": "code",
   "execution_count": 29,
   "metadata": {
    "collapsed": true
   },
   "outputs": [],
   "source": [
    "path='../../RetinalLayerSegmentationBackup/Dataset/Subject_new_'\n",
    "labeled_images = []\n",
    "labeled_colorimages = []\n",
    "images_modified=[]"
   ]
  },
  {
   "cell_type": "code",
   "execution_count": 30,
   "metadata": {
    "collapsed": true
   },
   "outputs": [],
   "source": [
    "def load_subject(subject_no):\n",
    "    local_path=path+subject_no+'/Sub_'+subject_no+'.mat'\n",
    "    sub = scio.loadmat(local_path)\n",
    "    print (sub.keys())\n",
    "    return sub\n",
    "    \n",
    "def reshape(ndarray):\n",
    "    ndarray_reshaped = np.array(ndarray.tolist())\n",
    "    ndarray_reshaped = ndarray_reshaped.reshape(ndarray.shape).transpose(2,0,1)\n",
    "    print (ndarray_reshaped.shape)\n",
    "    return ndarray_reshaped\n",
    "\n",
    "def get_gt_ids(subject_no):\n",
    "    local_path=path+subject_no+'/gt_id.mat'\n",
    "    gt_id = scio.loadmat(local_path)\n",
    "    print (gt_id.keys())\n",
    "    gt_id_list = gt_id['fr1']\n",
    "    print(gt_id_list)\n",
    "    gt_list = []\n",
    "    for item in gt_id_list:\n",
    "        gt_list.append(item[0])\n",
    "    return gt_list\n",
    "    \n",
    "def crop_image(image,left_bound,right_bound):\n",
    "    image = image[:,left_bound:right_bound]\n",
    "    return image\n",
    "    "
   ]
  },
  {
   "cell_type": "code",
   "execution_count": 31,
   "metadata": {
    "collapsed": false
   },
   "outputs": [
    {
     "name": "stdout",
     "output_type": "stream",
     "text": [
      "['automaticLayersNormal', 'automaticLayersDME', 'grader2', 'manualLayers1', '__header__', '__globals__', 'manualLayers2', 'grader1', 'images', 'grader_SJ', '__version__']\n"
     ]
    }
   ],
   "source": [
    "sub = load_subject(str(2))\n",
    "sub_images = sub['images']\n"
   ]
  },
  {
   "cell_type": "code",
   "execution_count": 32,
   "metadata": {
    "collapsed": false
   },
   "outputs": [
    {
     "name": "stdout",
     "output_type": "stream",
     "text": [
      "['automaticLayersNormal', 'automaticLayersDME', 'grader2', 'manualLayers1', '__header__', '__globals__', 'manualLayers2', 'grader1', 'images', 'grader_SJ', '__version__']\n",
      "(61, 496, 768)\n",
      "(61, 496, 768)\n",
      "(61, 8, 768)\n",
      "(61, 8, 768)\n",
      "['fr1', '__version__', '__header__', '__globals__']\n",
      "[[11]\n",
      " [16]\n",
      " [21]\n",
      " [26]\n",
      " [29]\n",
      " [31]\n",
      " [33]\n",
      " [36]\n",
      " [41]\n",
      " [46]\n",
      " [51]]\n",
      "['automaticLayersNormal', 'automaticLayersDME', 'grader2', 'manualLayers1', '__header__', '__globals__', 'manualLayers2', 'grader1', 'images', 'grader_SJ', '__version__']\n",
      "(61, 496, 768)\n",
      "(61, 496, 768)\n",
      "(61, 8, 768)\n",
      "(61, 8, 768)\n",
      "['fr1', '__version__', '__header__', '__globals__']\n",
      "[[11]\n",
      " [16]\n",
      " [21]\n",
      " [26]\n",
      " [29]\n",
      " [31]\n",
      " [33]\n",
      " [36]\n",
      " [41]\n",
      " [46]\n",
      " [51]]\n",
      "['automaticLayersNormal', 'automaticLayersDME', 'grader2', 'manualLayers1', '__header__', '__globals__', 'manualLayers2', 'grader1', 'images', 'grader_SJ', '__version__']\n",
      "(61, 496, 768)\n",
      "(61, 496, 768)\n",
      "(61, 8, 768)\n",
      "(61, 8, 768)\n",
      "['fr1', '__version__', '__header__', '__globals__']\n",
      "[[11]\n",
      " [16]\n",
      " [21]\n",
      " [26]\n",
      " [29]\n",
      " [31]\n",
      " [33]\n",
      " [36]\n",
      " [41]\n",
      " [46]\n",
      " [51]]\n",
      "['automaticLayersNormal', 'automaticLayersDME', 'grader2', 'manualLayers1', '__header__', '__globals__', 'manualLayers2', 'grader1', 'images', 'grader_SJ', '__version__']\n",
      "(61, 496, 768)\n",
      "(61, 496, 768)\n",
      "(61, 8, 768)\n",
      "(61, 8, 768)\n",
      "['fr1', '__version__', '__header__', '__globals__']\n",
      "[[ 7]\n",
      " [12]\n",
      " [17]\n",
      " [22]\n",
      " [25]\n",
      " [27]\n",
      " [29]\n",
      " [32]\n",
      " [37]\n",
      " [42]\n",
      " [47]]\n",
      "['automaticLayersNormal', 'automaticLayersDME', 'grader2', 'manualLayers1', '__header__', '__globals__', 'manualLayers2', 'grader1', 'images', 'grader_SJ', '__version__']\n",
      "(61, 496, 768)\n",
      "(61, 496, 768)\n",
      "(61, 8, 768)\n",
      "(61, 8, 768)\n",
      "['fr1', '__version__', '__header__', '__globals__']\n",
      "[[ 9]\n",
      " [14]\n",
      " [19]\n",
      " [24]\n",
      " [27]\n",
      " [29]\n",
      " [31]\n",
      " [34]\n",
      " [39]\n",
      " [44]\n",
      " [49]]\n",
      "['automaticLayersNormal', 'automaticLayersDME', 'grader2', 'manualLayers1', '__header__', '__globals__', 'manualLayers2', 'grader1', 'images', 'grader_SJ', '__version__']\n",
      "(61, 496, 768)\n",
      "(61, 496, 768)\n",
      "(61, 8, 768)\n",
      "(61, 8, 768)\n",
      "['fr1', '__version__', '__header__', '__globals__']\n",
      "[[11]\n",
      " [16]\n",
      " [21]\n",
      " [26]\n",
      " [29]\n",
      " [31]\n",
      " [33]\n",
      " [36]\n",
      " [41]\n",
      " [46]\n",
      " [51]]\n",
      "['automaticLayersNormal', 'automaticLayersDME', 'grader2', 'manualLayers1', '__header__', '__globals__', 'manualLayers2', 'grader1', 'images', 'grader_SJ', '__version__']\n",
      "(61, 496, 768)\n",
      "(61, 496, 768)\n",
      "(61, 8, 768)\n",
      "(61, 8, 768)\n",
      "['fr1', '__version__', '__header__', '__globals__']\n",
      "[[12]\n",
      " [17]\n",
      " [22]\n",
      " [27]\n",
      " [30]\n",
      " [32]\n",
      " [34]\n",
      " [37]\n",
      " [42]\n",
      " [47]\n",
      " [52]]\n",
      "['automaticLayersNormal', 'automaticLayersDME', 'grader2', 'manualLayers1', '__header__', '__globals__', 'manualLayers2', 'grader1', 'images', 'grader_SJ', '__version__']\n",
      "(61, 496, 768)\n",
      "(61, 496, 768)\n",
      "(61, 8, 768)\n",
      "(61, 8, 768)\n",
      "['fr1', '__version__', '__header__', '__globals__']\n",
      "[[ 9]\n",
      " [14]\n",
      " [19]\n",
      " [24]\n",
      " [27]\n",
      " [29]\n",
      " [31]\n",
      " [34]\n",
      " [39]\n",
      " [44]\n",
      " [49]]\n",
      "['automaticLayersNormal', 'automaticLayersDME', 'grader2', 'manualLayers1', '__header__', '__globals__', 'manualLayers2', 'grader1', 'images', 'grader_SJ', '__version__']\n",
      "(61, 496, 768)\n",
      "(61, 496, 768)\n",
      "(61, 8, 768)\n",
      "(61, 8, 768)\n",
      "['fr1', '__version__', '__header__', '__globals__']\n",
      "[[11]\n",
      " [16]\n",
      " [21]\n",
      " [26]\n",
      " [29]\n",
      " [31]\n",
      " [33]\n",
      " [36]\n",
      " [41]\n",
      " [46]\n",
      " [51]]\n",
      "['automaticLayersNormal', 'automaticLayersDME', 'grader2', 'manualLayers1', '__header__', '__globals__', 'manualLayers2', 'grader1', 'images', 'grader_SJ', '__version__']\n",
      "(61, 496, 768)\n",
      "(61, 496, 768)\n",
      "(61, 8, 768)\n",
      "(61, 8, 768)\n",
      "['fr1', '__version__', '__header__', '__globals__']\n",
      "[[11]\n",
      " [16]\n",
      " [21]\n",
      " [26]\n",
      " [29]\n",
      " [31]\n",
      " [33]\n",
      " [36]\n",
      " [41]\n",
      " [46]\n",
      " [51]]\n"
     ]
    }
   ],
   "source": [
    "for sub_index in range(10):\n",
    "    sub=load_subject(str(sub_index+1))\n",
    "    sub_images = sub['images']\n",
    "    images_reshaped = reshape(sub_images)\n",
    "    print (images_reshaped.shape)\n",
    "    manualLayer = sub['manualLayers1']\n",
    "    manualLayer_reshaped=reshape(manualLayer)\n",
    "    print (manualLayer_reshaped.shape)\n",
    "    left_bounds = [138,123,119,111,139,148,136,122,126,142]\n",
    "    right_bounds = [634,619,615,607,635,644,632,618,622,638]\n",
    "    gt_id_list = []\n",
    "    gt_id_list = get_gt_ids(str(sub_index+1))\n",
    "    for i in gt_id_list:\n",
    "        test = manualLayer_reshaped[i-1]\n",
    "        #print (test)\n",
    "        test=crop_image(test,left_bounds[sub_index],right_bounds[sub_index])\n",
    "        image_modified=crop_image(images_reshaped[i-1],left_bounds[sub_index],right_bounds[sub_index])\n",
    "        images_modified.append(image_modified)\n",
    "        for j in range(8):\n",
    "            for k in range(496):\n",
    "                if(test[j][k]==0):\n",
    "                    test[j][k] = test[j][k-1]\n",
    "        res_image = np.zeros((496,496))\n",
    "        color = np.zeros((496,496,3))\n",
    "        for j in range(7):\n",
    "            for k in range(496):\n",
    "                for a in range(test[j][k], test[j+1][k]):\n",
    "                        res_image[a][k] = j+1\n",
    "        labeled_images.append(res_image)\n",
    "        for j in range(496):\n",
    "            for k in range(496):\n",
    "                if(res_image[j][k]==0):\n",
    "                    color[j][k] = [0,0,0]\n",
    "                if(res_image[j][k]==1):\n",
    "                    color[j][k] = [128,0,0]\n",
    "                if(res_image[j][k]==2):\n",
    "                    color[j][k] = [0,128,0]\n",
    "                if(res_image[j][k]==3):\n",
    "                    color[j][k] = [128,128,0] \n",
    "                if(res_image[j][k]==4):\n",
    "                    color[j][k] = [0,128,128]\n",
    "                if(res_image[j][k]==5):\n",
    "                    color[j][k] = [64,0,0]\n",
    "                if(res_image[j][k]==6):\n",
    "                    color[j][k] = [192,0,0]\n",
    "                if(res_image[j][k]==7):\n",
    "                    color[j][k] = [128,64,64]\n",
    "                if(res_image[j][k]==9):\n",
    "                    color[j][k] = [0,64,128]\n",
    "        labeled_colorimages.append(color)\n",
    "    "
   ]
  },
  {
   "cell_type": "code",
   "execution_count": 6,
   "metadata": {
    "collapsed": false
   },
   "outputs": [
    {
     "name": "stdout",
     "output_type": "stream",
     "text": [
      "110\n"
     ]
    }
   ],
   "source": [
    "print (len(labeled_images))"
   ]
  },
  {
   "cell_type": "code",
   "execution_count": 33,
   "metadata": {
    "collapsed": true
   },
   "outputs": [],
   "source": [
    "label_images = []\n",
    "for i in range(len(labeled_images)) :\n",
    "        for j in range(7) :\n",
    "            label_image = crop_image(labeled_images[i],j*64,(j+1)*64)\n",
    "            label_images.append(label_image)"
   ]
  },
  {
   "cell_type": "code",
   "execution_count": 34,
   "metadata": {
    "collapsed": true
   },
   "outputs": [],
   "source": [
    "np.save(\"resized_labels.npy\", np.array(label_images))"
   ]
  },
  {
   "cell_type": "code",
   "execution_count": 7,
   "metadata": {
    "collapsed": false
   },
   "outputs": [
    {
     "name": "stdout",
     "output_type": "stream",
     "text": [
      "110\n"
     ]
    }
   ],
   "source": [
    "print (len(images_modified))"
   ]
  },
  {
   "cell_type": "code",
   "execution_count": 8,
   "metadata": {
    "collapsed": false
   },
   "outputs": [
    {
     "name": "stdout",
     "output_type": "stream",
     "text": [
      "(496, 496)\n"
     ]
    }
   ],
   "source": [
    "print (labeled_images[0].shape)"
   ]
  },
  {
   "cell_type": "code",
   "execution_count": 9,
   "metadata": {
    "collapsed": false
   },
   "outputs": [
    {
     "name": "stdout",
     "output_type": "stream",
     "text": [
      "110\n"
     ]
    }
   ],
   "source": [
    "print (len(labeled_colorimages))"
   ]
  },
  {
   "cell_type": "code",
   "execution_count": 10,
   "metadata": {
    "collapsed": false
   },
   "outputs": [
    {
     "name": "stdout",
     "output_type": "stream",
     "text": [
      "[[[ 0.  0.  0.]\n",
      "  [ 0.  0.  0.]\n",
      "  [ 0.  0.  0.]\n",
      "  ..., \n",
      "  [ 0.  0.  0.]\n",
      "  [ 0.  0.  0.]\n",
      "  [ 0.  0.  0.]]\n",
      "\n",
      " [[ 0.  0.  0.]\n",
      "  [ 0.  0.  0.]\n",
      "  [ 0.  0.  0.]\n",
      "  ..., \n",
      "  [ 0.  0.  0.]\n",
      "  [ 0.  0.  0.]\n",
      "  [ 0.  0.  0.]]\n",
      "\n",
      " [[ 0.  0.  0.]\n",
      "  [ 0.  0.  0.]\n",
      "  [ 0.  0.  0.]\n",
      "  ..., \n",
      "  [ 0.  0.  0.]\n",
      "  [ 0.  0.  0.]\n",
      "  [ 0.  0.  0.]]\n",
      "\n",
      " ..., \n",
      " [[ 0.  0.  0.]\n",
      "  [ 0.  0.  0.]\n",
      "  [ 0.  0.  0.]\n",
      "  ..., \n",
      "  [ 0.  0.  0.]\n",
      "  [ 0.  0.  0.]\n",
      "  [ 0.  0.  0.]]\n",
      "\n",
      " [[ 0.  0.  0.]\n",
      "  [ 0.  0.  0.]\n",
      "  [ 0.  0.  0.]\n",
      "  ..., \n",
      "  [ 0.  0.  0.]\n",
      "  [ 0.  0.  0.]\n",
      "  [ 0.  0.  0.]]\n",
      "\n",
      " [[ 0.  0.  0.]\n",
      "  [ 0.  0.  0.]\n",
      "  [ 0.  0.  0.]\n",
      "  ..., \n",
      "  [ 0.  0.  0.]\n",
      "  [ 0.  0.  0.]\n",
      "  [ 0.  0.  0.]]]\n"
     ]
    }
   ],
   "source": [
    "print (labeled_colorimages[0])"
   ]
  },
  {
   "cell_type": "code",
   "execution_count": 11,
   "metadata": {
    "collapsed": false
   },
   "outputs": [],
   "source": [
    "for item in range(110):\n",
    "    imsave('Dataset/Colored/Colored_'+str(item+1)+'.png',labeled_colorimages[item])\n",
    "for item in range(110):\n",
    "    imsave('Dataset/Train_images_original/train_'+str(item+1)+'.png',images_modified[item])"
   ]
  },
  {
   "cell_type": "code",
   "execution_count": 12,
   "metadata": {
    "collapsed": true
   },
   "outputs": [],
   "source": [
    "for i in range(110):\n",
    "    for j in range(7):\n",
    "        temp = crop_image(labeled_colorimages[0],j*64,(j+1)*64)\n",
    "        imsave('Dataset/Colored_cropped/color_'+str((i*5)+(j+1))+'.png',temp)"
   ]
  },
  {
   "cell_type": "code",
   "execution_count": 13,
   "metadata": {
    "collapsed": false
   },
   "outputs": [
    {
     "name": "stdout",
     "output_type": "stream",
     "text": [
      "(496, 496)\n"
     ]
    }
   ],
   "source": [
    "print (images_modified[0].shape)"
   ]
  },
  {
   "cell_type": "code",
   "execution_count": 14,
   "metadata": {
    "collapsed": true
   },
   "outputs": [],
   "source": [
    "train_images = []\n",
    "dummy_train_labels = []\n"
   ]
  },
  {
   "cell_type": "code",
   "execution_count": 15,
   "metadata": {
    "collapsed": true
   },
   "outputs": [],
   "source": [
    "for i in range(len(images_modified)) :\n",
    "        for j in range(7) :\n",
    "            train_image = crop_image(images_modified[i],j*64,(j+1)*64)\n",
    "            train_images.append(train_image)"
   ]
  },
  {
   "cell_type": "code",
   "execution_count": 16,
   "metadata": {
    "collapsed": false
   },
   "outputs": [
    {
     "name": "stdout",
     "output_type": "stream",
     "text": [
      "770\n"
     ]
    }
   ],
   "source": [
    "print (len(train_images))"
   ]
  },
  {
   "cell_type": "code",
   "execution_count": 17,
   "metadata": {
    "collapsed": true
   },
   "outputs": [],
   "source": [
    "for item in range(len(train_images)) :\n",
    "    imsave('Dataset/Train_images/image_'+str(item+1)+'.png',train_images[item])"
   ]
  },
  {
   "cell_type": "code",
   "execution_count": 18,
   "metadata": {
    "collapsed": true
   },
   "outputs": [],
   "source": [
    "for i in range(len(labeled_images)) :\n",
    "    for j in range(7) :\n",
    "        dummy_train_label = crop_image(labeled_images[i],j*64,(j+1)*64)\n",
    "        dummy_train_labels.append(dummy_train_label)"
   ]
  },
  {
   "cell_type": "code",
   "execution_count": 19,
   "metadata": {
    "collapsed": false
   },
   "outputs": [
    {
     "name": "stdout",
     "output_type": "stream",
     "text": [
      "770\n"
     ]
    }
   ],
   "source": [
    "print (len(dummy_train_labels))"
   ]
  },
  {
   "cell_type": "code",
   "execution_count": 20,
   "metadata": {
    "collapsed": false
   },
   "outputs": [
    {
     "name": "stdout",
     "output_type": "stream",
     "text": [
      "(496, 64)\n"
     ]
    }
   ],
   "source": [
    "print (dummy_train_labels[0].shape)"
   ]
  },
  {
   "cell_type": "code",
   "execution_count": 21,
   "metadata": {
    "collapsed": true
   },
   "outputs": [],
   "source": [
    "train_labels  = np.zeros((770,496,64,8))"
   ]
  },
  {
   "cell_type": "code",
   "execution_count": 22,
   "metadata": {
    "collapsed": false
   },
   "outputs": [
    {
     "name": "stdout",
     "output_type": "stream",
     "text": [
      "0.0\n"
     ]
    }
   ],
   "source": [
    "print (dummy_train_labels[0][0][0])"
   ]
  },
  {
   "cell_type": "code",
   "execution_count": 23,
   "metadata": {
    "collapsed": true
   },
   "outputs": [],
   "source": [
    "for i in range(len(dummy_train_labels)) :\n",
    "    for j in range(496) :\n",
    "        for k in range(64):\n",
    "            if(dummy_train_labels[i][j][k] == 0):\n",
    "                train_labels[i][j][k][0] = 1\n",
    "            if(dummy_train_labels[i][j][k] == 1):\n",
    "                train_labels[i][j][k][1] = 1\n",
    "            if(dummy_train_labels[i][j][k] == 2):\n",
    "                train_labels[i][j][k][2] = 1\n",
    "            if(dummy_train_labels[i][j][k] == 3):\n",
    "                train_labels[i][j][k][3] = 1\n",
    "            if(dummy_train_labels[i][j][k] == 4):\n",
    "                train_labels[i][j][k][4] = 1\n",
    "            if(dummy_train_labels[i][j][k] == 5):\n",
    "                train_labels[i][j][k][5] = 1\n",
    "            if(dummy_train_labels[i][j][k] == 6):\n",
    "                train_labels[i][j][k][6] = 1\n",
    "            if(dummy_train_labels[i][j][k] == 7):\n",
    "                train_labels[i][j][k][7] = 1"
   ]
  },
  {
   "cell_type": "code",
   "execution_count": 24,
   "metadata": {
    "collapsed": false
   },
   "outputs": [
    {
     "data": {
      "text/plain": [
       "(496, 64)"
      ]
     },
     "execution_count": 24,
     "metadata": {},
     "output_type": "execute_result"
    }
   ],
   "source": [
    "dummy_train_labels[0].shape"
   ]
  },
  {
   "cell_type": "code",
   "execution_count": 25,
   "metadata": {
    "collapsed": false
   },
   "outputs": [],
   "source": [
    "count = [0]*8\n",
    "weighted_images = []\n",
    "for i in range(770):\n",
    "    image = dummy_train_labels[i]\n",
    "    weighted_image = np.zeros((496,64))\n",
    "    for j in range(216):\n",
    "        for k in range(64):\n",
    "             if(image[j][k]==1):\n",
    "                w2 = 11.459\n",
    "             elif(image[j][k] == 2):\n",
    "                w2 = 5.63\n",
    "             elif(image[j][k]== 3):\n",
    "                w2 = 11.007 \n",
    "             elif(image[j][k] == 4):\n",
    "                w2 = 14.368 \n",
    "             elif(image[j][k]== 5):\n",
    "                w2 = 3.336 \n",
    "             elif(image[j][k]== 6):\n",
    "                w2 = 13.647 \n",
    "             elif(image[j][k]== 7):\n",
    "                w2 = 16.978 \n",
    "             else:\n",
    "                w2 = 0\n",
    "             if(j!=0 and j!=215):\n",
    "                if(image[j+1][k]-image[j-1][k]>0 and w2<>0):\n",
    "                    w1 = 15 \n",
    "                   # count = count +1\n",
    "                    count[int(image[j-1][k])] = count[int(image[j-1][k])] + 1 \n",
    "                else:\n",
    "                    w1 = 0\n",
    "             else:\n",
    "                w1 = 0\n",
    "             w = 1 + w1 + w2\n",
    "             weighted_image[j][k] = w\n",
    "    weighted_images.append(weighted_image)"
   ]
  },
  {
   "cell_type": "code",
   "execution_count": 26,
   "metadata": {
    "collapsed": false
   },
   "outputs": [],
   "source": [
    "for item in range(770):\n",
    "    imsave('Dataset/Weighted/weighted_'+str(item+1)+'.png',weighted_images[item])"
   ]
  },
  {
   "cell_type": "code",
   "execution_count": 27,
   "metadata": {
    "collapsed": true
   },
   "outputs": [],
   "source": [
    "np.save('weighted_cropped_images.npy',np.array(weighted_images))"
   ]
  },
  {
   "cell_type": "code",
   "execution_count": null,
   "metadata": {
    "collapsed": true
   },
   "outputs": [],
   "source": []
  }
 ],
 "metadata": {
  "kernelspec": {
   "display_name": "Python [Root]",
   "language": "python",
   "name": "Python [Root]"
  },
  "language_info": {
   "codemirror_mode": {
    "name": "ipython",
    "version": 2
   },
   "file_extension": ".py",
   "mimetype": "text/x-python",
   "name": "python",
   "nbconvert_exporter": "python",
   "pygments_lexer": "ipython2",
   "version": "2.7.12"
  }
 },
 "nbformat": 4,
 "nbformat_minor": 2
}
